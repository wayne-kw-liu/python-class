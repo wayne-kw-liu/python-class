{
 "cells": [
  {
   "cell_type": "code",
   "execution_count": 1,
   "id": "51a46584-11cf-49ac-bd70-885ddcd8d412",
   "metadata": {
    "tags": []
   },
   "outputs": [],
   "source": [
    "import numpy as np\n",
    "import pandas as pd"
   ]
  },
  {
   "cell_type": "code",
   "execution_count": 2,
   "id": "cce0634e-f61f-45ac-bbae-1db42b1a204b",
   "metadata": {
    "tags": []
   },
   "outputs": [],
   "source": [
    "df = pd.read_csv(\"Advertising.csv\") \n",
    "df = df[[\"TV\",\"radio\",\"newspaper\",\"sales\"]]"
   ]
  },
  {
   "cell_type": "code",
   "execution_count": 5,
   "id": "33317972-126a-4371-9860-1f9fd708a919",
   "metadata": {
    "tags": []
   },
   "outputs": [],
   "source": [
    " # Homework to create pandas version of cost function with multible varible\n",
    "\n",
    "def cost_func_hw(X, y, w0, w1,w2,w3):\n",
    "    #X: Dataframe of [\"TV\",\"Newspaper\",\"Ratio\"]\n",
    "    #y: Sales\n",
    "\n",
    "    #Easy version: For loop\n",
    "    num_record = len(y)\n",
    "    total_cost = 0\n",
    "    \n",
    "    for i in range(num_record):\n",
    "        y_pred = w1*X.iloc[i,0] + w2*X.iloc[i,1] + w3*X.iloc[i,2] + w0\n",
    "        error = (y[i] - y_pred)**2\n",
    "        total_cost += error\n",
    "        \n",
    "    #Challenging version: No For loop\n",
    "    return total_cost/(2*num_record)"
   ]
  },
  {
   "cell_type": "code",
   "execution_count": 6,
   "id": "7dc59362-00d7-435f-af75-70b6b4052b20",
   "metadata": {
    "tags": []
   },
   "outputs": [],
   "source": [
    "# df version\n",
    "def cost_func_df(X, y, w0, w1, w2, w3):\n",
    "    num_record = len(y)\n",
    "    X['y_pred'] = w0 + X.iloc[:,0] * w1 + X.iloc[:,1] * w2 + X.iloc[:,2] * w3\n",
    "    X['y'] = pd.DataFrame({'y': y})\n",
    "    X['error'] = (X['y'] - X['y_pred'])**2\n",
    "    return X['error'].sum() / (2 * num_record)"
   ]
  },
  {
   "cell_type": "code",
   "execution_count": 7,
   "id": "84df682b-8468-4b3a-b6b9-e89860f2f8c4",
   "metadata": {
    "tags": []
   },
   "outputs": [],
   "source": [
    "# np version\n",
    "def cost_func_np(X, y, w0, w1, w2, w3):\n",
    "    num_record = len(y)\n",
    "    y_pred = w0 + X[:,0] * w1 + X[:,1] * w2 + X[:,2] * w3\n",
    "    error = (y - y_pred)**2\n",
    "    return error.sum() / (2 * num_record)"
   ]
  },
  {
   "cell_type": "code",
   "execution_count": 8,
   "id": "2e818769-2d8f-49d3-9b5a-78a4ccc5960e",
   "metadata": {
    "tags": []
   },
   "outputs": [
    {
     "data": {
      "text/plain": [
       "21537.743850000003"
      ]
     },
     "execution_count": 8,
     "metadata": {},
     "output_type": "execute_result"
    }
   ],
   "source": [
    "w0 = 1\n",
    "w1 = 1\n",
    "w2 = 1\n",
    "w3 = 1\n",
    "\n",
    "cost_func_hw(df[[\"TV\",\"radio\",\"newspaper\"]], df[\"sales\"], w0, w1, w2, w3)"
   ]
  },
  {
   "cell_type": "code",
   "execution_count": 9,
   "id": "65aa2f9b-6266-4b65-b174-aebfa76e69c1",
   "metadata": {
    "tags": []
   },
   "outputs": [
    {
     "data": {
      "text/plain": [
       "21537.743850000003"
      ]
     },
     "execution_count": 9,
     "metadata": {},
     "output_type": "execute_result"
    }
   ],
   "source": [
    "cost_func_df(df[[\"TV\",\"radio\",\"newspaper\"]], df[\"sales\"], w0, w1, w2, w3)"
   ]
  },
  {
   "cell_type": "code",
   "execution_count": 10,
   "id": "d43ab615-c139-41ef-ad57-a1d0af0a091f",
   "metadata": {
    "tags": []
   },
   "outputs": [
    {
     "data": {
      "text/plain": [
       "21537.743850000003"
      ]
     },
     "execution_count": 10,
     "metadata": {},
     "output_type": "execute_result"
    }
   ],
   "source": [
    "cost_func_np(df[[\"TV\",\"radio\",\"newspaper\"]].to_numpy(), df[\"sales\"], w0, w1, w2, w3)"
   ]
  },
  {
   "cell_type": "code",
   "execution_count": null,
   "id": "517cb1f7-6519-4a19-bed2-ca8b8de3ccca",
   "metadata": {},
   "outputs": [],
   "source": []
  }
 ],
 "metadata": {
  "kernelspec": {
   "display_name": "Python 3 (ipykernel)",
   "language": "python",
   "name": "python3"
  },
  "language_info": {
   "codemirror_mode": {
    "name": "ipython",
    "version": 3
   },
   "file_extension": ".py",
   "mimetype": "text/x-python",
   "name": "python",
   "nbconvert_exporter": "python",
   "pygments_lexer": "ipython3",
   "version": "3.11.4"
  }
 },
 "nbformat": 4,
 "nbformat_minor": 5
}
