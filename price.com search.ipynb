{
 "cells": [
  {
   "cell_type": "code",
   "execution_count": 36,
   "id": "c0daa75a-e33a-44dd-80e8-3748186382a2",
   "metadata": {
    "tags": []
   },
   "outputs": [],
   "source": [
    "# Import libraries\n",
    "import requests \n",
    "from bs4 import BeautifulSoup\n",
    "\n",
    "def get_price_com(query):\n",
    "    # Open web page\n",
    "    URL = \"https://www.price.com.hk/search.php?g=A&q=\" + query\n",
    "    r = requests.get(URL)\n",
    "    soup = BeautifulSoup(r.text)\n",
    "    \n",
    "    # Get total number of page\n",
    "    page_str = \"\"\n",
    "    for i in soup.find('div',{'class':'pagination-bottom-center'}).findAll('a')[-1]['onclick']:\n",
    "        if i.isdigit(): page_str = page_str + i\n",
    "    total_page = int(page_str)\n",
    "    \n",
    "    # Set up product library\n",
    "    product_lib = {}\n",
    "\n",
    "    # Scrape from page 1 to last page \n",
    "    for page in range(1, total_page + 1):\n",
    "        if page > 1:\n",
    "            URL = \"https://www.price.com.hk/search.php?g=A&q=\"+query+'&page' + str(page)\n",
    "            r = requests.get(URL)\n",
    "            soup = BeautifulSoup(r.text)\n",
    "        product_list = soup.find('ul',{'tag':'product-list'})\n",
    "        li = product_list.findAll('li')\n",
    "        for product in li:\n",
    "            if product.find('input') == None: continue\n",
    "            product_name = product.find('input')['data-add-compare-name']\n",
    "            price_lib = {}\n",
    "            price_range = []\n",
    "            spans = product.findAll('span')\n",
    "            for span in spans:\n",
    "                if 'data-price' in span.attrs:\n",
    "                    price_range.append(float(span['data-price']))\n",
    "                if 'class' in span.attrs and span['class'] == ['product-prop']:\n",
    "                    # found 水貨/行貨 indicator. Save price range to library with \"水貨\" or \"行貨\" as key\n",
    "                    price_lib[span.find('img')['title']] = price_range\n",
    "                    price_range = []\n",
    "            product_lib[product_name] = price_lib\n",
    "    \n",
    "    # Return product library\n",
    "    return product_lib"
   ]
  },
  {
   "cell_type": "code",
   "execution_count": 34,
   "id": "c03c0c81-e480-461b-bb33-82f673580ec4",
   "metadata": {
    "tags": []
   },
   "outputs": [],
   "source": [
    "dyson_list = get_price_com('dyson')"
   ]
  },
  {
   "cell_type": "code",
   "execution_count": 35,
   "id": "22de68e7-5add-41db-ad06-ee51a924a835",
   "metadata": {
    "tags": []
   },
   "outputs": [
    {
     "name": "stdout",
     "output_type": "stream",
     "text": [
      "{'Dyson Supersonic 風筒 HD15': {'行貨': [2650.0, 3678.0]}, 'Dyson Gen5Detect Absolute 無線吸塵機': {'行貨': [4760.0, 6520.0]}, 'Dyson Supersonic 風筒 HD08': {'行貨': [2430.0, 3300.0], '水貨': [2320.0, 2980.0]}, 'Dyson Supersonic 風筒 普魯士藍冬日限定版 HD08': {'行貨': [2700.0, 3280.0], '水貨': [3880.0]}, 'Dyson V8 Slim Fluffy 無線吸塵機': {'行貨': [2480.0, 3180.0], '水貨': [2290.0, 2780.0]}, 'Dyson V15 Detect Total Clean 智能無線吸塵機': {'行貨': [4780.0, 5780.0], '水貨': [3980.0]}, 'Dyson 風扇暖風機 AM09': {'行貨': [2500.0, 3200.0], '水貨': [2680.0]}, 'Dyson V12s Origin Submarine 乾濕全能洗地吸塵機': {'行貨': [4390.0, 4880.0]}, 'Dyson V12s Detect Slim Submarine 乾濕全能洗地吸塵器': {'行貨': [4860.0, 5480.0]}, 'Dyson Supersonic 風筒 長春花藍配玫瑰金限定版 附精美禮盒 HD15': {'行貨': [2700.0, 3550.0]}, 'Dyson Supersonic 風筒 普魯士藍配精美禮盒 HD15': {'行貨': [2700.0, 3480.0]}, 'Dyson Digital Slim Origin 輕量無線吸塵機': {'行貨': [2750.0, 3180.0]}, 'Dyson Purifier Hot+Cool Gen1 三合一暖風空氣清新機 HP10': {'行貨': [3730.0, 4130.0]}, 'Dyson Corrale 直捲髮造型器 HS07': {'行貨': [3080.0, 3878.0]}, 'Dyson Supersonic 風筒 炫彩粉霧拼色配精美禮盒 HD15': {'行貨': [3160.0, 3780.0]}}\n"
     ]
    }
   ],
   "source": [
    "print(dyson_list)"
   ]
  }
 ],
 "metadata": {
  "kernelspec": {
   "display_name": "Python 3 (ipykernel)",
   "language": "python",
   "name": "python3"
  },
  "language_info": {
   "codemirror_mode": {
    "name": "ipython",
    "version": 3
   },
   "file_extension": ".py",
   "mimetype": "text/x-python",
   "name": "python",
   "nbconvert_exporter": "python",
   "pygments_lexer": "ipython3",
   "version": "3.11.4"
  }
 },
 "nbformat": 4,
 "nbformat_minor": 5
}
