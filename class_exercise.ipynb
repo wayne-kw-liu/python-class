{
 "cells": [
  {
   "cell_type": "code",
   "execution_count": null,
   "id": "b355d494-5348-48c5-8ad6-b41c5ef80e3f",
   "metadata": {},
   "outputs": [],
   "source": [
    "# Rate per session for operated flight (based on DEPARTURE_TIME)\n",
    "\n",
    "# Table with these columns, values = ratio of operated flight\n",
    "\n",
    "# Origin airport\n",
    "# session1: 0 - 6am ratio -> 00:00 - 05:59\n",
    "# session2: 6am - 12noon -> 06:00 - 11:59\n",
    "# session3: 12noon - 6pm -> 12:00 - 17:59\n",
    "# session4: 6pm - midnight -> 18:00 - 23:59"
   ]
  },
  {
   "cell_type": "code",
   "execution_count": 2,
   "id": "ded51433-5433-4c52-971d-d829a8d3c8fe",
   "metadata": {
    "tags": []
   },
   "outputs": [],
   "source": [
    "import pandas as pd\n",
    "import numpy as np"
   ]
  },
  {
   "cell_type": "code",
   "execution_count": 3,
   "id": "ceebe79f-216c-4d90-8670-044a7edc83f7",
   "metadata": {
    "tags": []
   },
   "outputs": [
    {
     "name": "stderr",
     "output_type": "stream",
     "text": [
      "/var/folders/sp/v99xtfrs4p35rhqv158v85h80000gn/T/ipykernel_2820/772266734.py:1: DtypeWarning: Columns (7,8) have mixed types. Specify dtype option on import or set low_memory=False.\n",
      "  df_flights = pd.read_csv('flights.csv')\n"
     ]
    }
   ],
   "source": [
    "df_flights = pd.read_csv('flights.csv')"
   ]
  },
  {
   "cell_type": "code",
   "execution_count": 4,
   "id": "3ace7b6a-3441-41aa-b2f5-5b8eb22dbc21",
   "metadata": {
    "tags": []
   },
   "outputs": [],
   "source": [
    "# Set splitter every 6 hours (also can set every 1, 2, 3, 4, 6, 8, 12 hours)\n",
    "session_split = 600"
   ]
  },
  {
   "cell_type": "code",
   "execution_count": 5,
   "id": "d5c069e0-1e85-48e2-855f-85895c21bb7d",
   "metadata": {
    "tags": []
   },
   "outputs": [],
   "source": [
    "total_session = 2400 // session_split"
   ]
  },
  {
   "cell_type": "code",
   "execution_count": 6,
   "id": "564c357b-f56a-4943-9aa8-b1e193d5d9ad",
   "metadata": {
    "tags": []
   },
   "outputs": [],
   "source": [
    "df_flights['session'] = df_flights['DEPARTURE_TIME'].apply(lambda x: total_session if x == 2400 else x // session_split + 1)"
   ]
  },
  {
   "cell_type": "code",
   "execution_count": 7,
   "id": "8d838cf2-58ff-4791-ae90-a360b3a66aee",
   "metadata": {
    "tags": []
   },
   "outputs": [],
   "source": [
    "df_flights['operated'] = df_flights['CANCELLED'].apply(lambda x: 1 if x == 0 else 0)"
   ]
  },
  {
   "cell_type": "code",
   "execution_count": 8,
   "id": "bdff9bf9-2199-4055-bf33-858330172f05",
   "metadata": {
    "tags": []
   },
   "outputs": [
    {
     "data": {
      "text/html": [
       "<div>\n",
       "<style scoped>\n",
       "    .dataframe tbody tr th:only-of-type {\n",
       "        vertical-align: middle;\n",
       "    }\n",
       "\n",
       "    .dataframe tbody tr th {\n",
       "        vertical-align: top;\n",
       "    }\n",
       "\n",
       "    .dataframe thead th {\n",
       "        text-align: right;\n",
       "    }\n",
       "</style>\n",
       "<table border=\"1\" class=\"dataframe\">\n",
       "  <thead>\n",
       "    <tr style=\"text-align: right;\">\n",
       "      <th></th>\n",
       "      <th>YEAR</th>\n",
       "      <th>MONTH</th>\n",
       "      <th>DAY</th>\n",
       "      <th>DAY_OF_WEEK</th>\n",
       "      <th>AIRLINE</th>\n",
       "      <th>FLIGHT_NUMBER</th>\n",
       "      <th>TAIL_NUMBER</th>\n",
       "      <th>ORIGIN_AIRPORT</th>\n",
       "      <th>DESTINATION_AIRPORT</th>\n",
       "      <th>SCHEDULED_DEPARTURE</th>\n",
       "      <th>...</th>\n",
       "      <th>DIVERTED</th>\n",
       "      <th>CANCELLED</th>\n",
       "      <th>CANCELLATION_REASON</th>\n",
       "      <th>AIR_SYSTEM_DELAY</th>\n",
       "      <th>SECURITY_DELAY</th>\n",
       "      <th>AIRLINE_DELAY</th>\n",
       "      <th>LATE_AIRCRAFT_DELAY</th>\n",
       "      <th>WEATHER_DELAY</th>\n",
       "      <th>session</th>\n",
       "      <th>operated</th>\n",
       "    </tr>\n",
       "  </thead>\n",
       "  <tbody>\n",
       "    <tr>\n",
       "      <th>1733763</th>\n",
       "      <td>2015</td>\n",
       "      <td>4</td>\n",
       "      <td>21</td>\n",
       "      <td>2</td>\n",
       "      <td>EV</td>\n",
       "      <td>5299</td>\n",
       "      <td>N604QX</td>\n",
       "      <td>MSP</td>\n",
       "      <td>RST</td>\n",
       "      <td>1300</td>\n",
       "      <td>...</td>\n",
       "      <td>0</td>\n",
       "      <td>0</td>\n",
       "      <td>NaN</td>\n",
       "      <td>NaN</td>\n",
       "      <td>NaN</td>\n",
       "      <td>NaN</td>\n",
       "      <td>NaN</td>\n",
       "      <td>NaN</td>\n",
       "      <td>3.0</td>\n",
       "      <td>1</td>\n",
       "    </tr>\n",
       "    <tr>\n",
       "      <th>1097036</th>\n",
       "      <td>2015</td>\n",
       "      <td>3</td>\n",
       "      <td>13</td>\n",
       "      <td>5</td>\n",
       "      <td>MQ</td>\n",
       "      <td>3599</td>\n",
       "      <td>N817MQ</td>\n",
       "      <td>LGA</td>\n",
       "      <td>SDF</td>\n",
       "      <td>830</td>\n",
       "      <td>...</td>\n",
       "      <td>0</td>\n",
       "      <td>0</td>\n",
       "      <td>NaN</td>\n",
       "      <td>NaN</td>\n",
       "      <td>NaN</td>\n",
       "      <td>NaN</td>\n",
       "      <td>NaN</td>\n",
       "      <td>NaN</td>\n",
       "      <td>2.0</td>\n",
       "      <td>1</td>\n",
       "    </tr>\n",
       "    <tr>\n",
       "      <th>969678</th>\n",
       "      <td>2015</td>\n",
       "      <td>3</td>\n",
       "      <td>5</td>\n",
       "      <td>4</td>\n",
       "      <td>AA</td>\n",
       "      <td>971</td>\n",
       "      <td>N013AA</td>\n",
       "      <td>DFW</td>\n",
       "      <td>ELP</td>\n",
       "      <td>1147</td>\n",
       "      <td>...</td>\n",
       "      <td>0</td>\n",
       "      <td>0</td>\n",
       "      <td>NaN</td>\n",
       "      <td>5.0</td>\n",
       "      <td>0.0</td>\n",
       "      <td>14.0</td>\n",
       "      <td>0.0</td>\n",
       "      <td>0.0</td>\n",
       "      <td>3.0</td>\n",
       "      <td>1</td>\n",
       "    </tr>\n",
       "    <tr>\n",
       "      <th>5261521</th>\n",
       "      <td>2015</td>\n",
       "      <td>11</td>\n",
       "      <td>25</td>\n",
       "      <td>3</td>\n",
       "      <td>AA</td>\n",
       "      <td>594</td>\n",
       "      <td>N753US</td>\n",
       "      <td>PHX</td>\n",
       "      <td>IAH</td>\n",
       "      <td>1701</td>\n",
       "      <td>...</td>\n",
       "      <td>0</td>\n",
       "      <td>0</td>\n",
       "      <td>NaN</td>\n",
       "      <td>NaN</td>\n",
       "      <td>NaN</td>\n",
       "      <td>NaN</td>\n",
       "      <td>NaN</td>\n",
       "      <td>NaN</td>\n",
       "      <td>3.0</td>\n",
       "      <td>1</td>\n",
       "    </tr>\n",
       "    <tr>\n",
       "      <th>1009661</th>\n",
       "      <td>2015</td>\n",
       "      <td>3</td>\n",
       "      <td>7</td>\n",
       "      <td>6</td>\n",
       "      <td>WN</td>\n",
       "      <td>1654</td>\n",
       "      <td>N205WN</td>\n",
       "      <td>STL</td>\n",
       "      <td>MCO</td>\n",
       "      <td>2045</td>\n",
       "      <td>...</td>\n",
       "      <td>0</td>\n",
       "      <td>0</td>\n",
       "      <td>NaN</td>\n",
       "      <td>NaN</td>\n",
       "      <td>NaN</td>\n",
       "      <td>NaN</td>\n",
       "      <td>NaN</td>\n",
       "      <td>NaN</td>\n",
       "      <td>4.0</td>\n",
       "      <td>1</td>\n",
       "    </tr>\n",
       "  </tbody>\n",
       "</table>\n",
       "<p>5 rows × 33 columns</p>\n",
       "</div>"
      ],
      "text/plain": [
       "         YEAR  MONTH  DAY  DAY_OF_WEEK AIRLINE  FLIGHT_NUMBER TAIL_NUMBER  \\\n",
       "1733763  2015      4   21            2      EV           5299      N604QX   \n",
       "1097036  2015      3   13            5      MQ           3599      N817MQ   \n",
       "969678   2015      3    5            4      AA            971      N013AA   \n",
       "5261521  2015     11   25            3      AA            594      N753US   \n",
       "1009661  2015      3    7            6      WN           1654      N205WN   \n",
       "\n",
       "        ORIGIN_AIRPORT DESTINATION_AIRPORT  SCHEDULED_DEPARTURE  ...  \\\n",
       "1733763            MSP                 RST                 1300  ...   \n",
       "1097036            LGA                 SDF                  830  ...   \n",
       "969678             DFW                 ELP                 1147  ...   \n",
       "5261521            PHX                 IAH                 1701  ...   \n",
       "1009661            STL                 MCO                 2045  ...   \n",
       "\n",
       "         DIVERTED  CANCELLED  CANCELLATION_REASON  AIR_SYSTEM_DELAY  \\\n",
       "1733763         0          0                  NaN               NaN   \n",
       "1097036         0          0                  NaN               NaN   \n",
       "969678          0          0                  NaN               5.0   \n",
       "5261521         0          0                  NaN               NaN   \n",
       "1009661         0          0                  NaN               NaN   \n",
       "\n",
       "         SECURITY_DELAY  AIRLINE_DELAY  LATE_AIRCRAFT_DELAY  WEATHER_DELAY  \\\n",
       "1733763             NaN            NaN                  NaN            NaN   \n",
       "1097036             NaN            NaN                  NaN            NaN   \n",
       "969678              0.0           14.0                  0.0            0.0   \n",
       "5261521             NaN            NaN                  NaN            NaN   \n",
       "1009661             NaN            NaN                  NaN            NaN   \n",
       "\n",
       "         session  operated  \n",
       "1733763      3.0         1  \n",
       "1097036      2.0         1  \n",
       "969678       3.0         1  \n",
       "5261521      3.0         1  \n",
       "1009661      4.0         1  \n",
       "\n",
       "[5 rows x 33 columns]"
      ]
     },
     "execution_count": 8,
     "metadata": {},
     "output_type": "execute_result"
    }
   ],
   "source": [
    "df_flights.sample(5)"
   ]
  },
  {
   "cell_type": "code",
   "execution_count": 9,
   "id": "441b68a3-c235-4310-8748-6fd97abba742",
   "metadata": {
    "tags": []
   },
   "outputs": [],
   "source": [
    "for i in range(1, total_session + 1):\n",
    "    df_flights[f'session{i}_count'] = (df_flights['session'] == i).astype(int)"
   ]
  },
  {
   "cell_type": "code",
   "execution_count": 10,
   "id": "b5f99cb5-9a98-4d6e-9b87-e2a79b442d05",
   "metadata": {
    "tags": []
   },
   "outputs": [
    {
     "data": {
      "text/html": [
       "<div>\n",
       "<style scoped>\n",
       "    .dataframe tbody tr th:only-of-type {\n",
       "        vertical-align: middle;\n",
       "    }\n",
       "\n",
       "    .dataframe tbody tr th {\n",
       "        vertical-align: top;\n",
       "    }\n",
       "\n",
       "    .dataframe thead th {\n",
       "        text-align: right;\n",
       "    }\n",
       "</style>\n",
       "<table border=\"1\" class=\"dataframe\">\n",
       "  <thead>\n",
       "    <tr style=\"text-align: right;\">\n",
       "      <th></th>\n",
       "      <th>YEAR</th>\n",
       "      <th>MONTH</th>\n",
       "      <th>DAY</th>\n",
       "      <th>DAY_OF_WEEK</th>\n",
       "      <th>AIRLINE</th>\n",
       "      <th>FLIGHT_NUMBER</th>\n",
       "      <th>TAIL_NUMBER</th>\n",
       "      <th>ORIGIN_AIRPORT</th>\n",
       "      <th>DESTINATION_AIRPORT</th>\n",
       "      <th>SCHEDULED_DEPARTURE</th>\n",
       "      <th>...</th>\n",
       "      <th>SECURITY_DELAY</th>\n",
       "      <th>AIRLINE_DELAY</th>\n",
       "      <th>LATE_AIRCRAFT_DELAY</th>\n",
       "      <th>WEATHER_DELAY</th>\n",
       "      <th>session</th>\n",
       "      <th>operated</th>\n",
       "      <th>session1_count</th>\n",
       "      <th>session2_count</th>\n",
       "      <th>session3_count</th>\n",
       "      <th>session4_count</th>\n",
       "    </tr>\n",
       "  </thead>\n",
       "  <tbody>\n",
       "    <tr>\n",
       "      <th>609404</th>\n",
       "      <td>2015</td>\n",
       "      <td>2</td>\n",
       "      <td>10</td>\n",
       "      <td>2</td>\n",
       "      <td>DL</td>\n",
       "      <td>2001</td>\n",
       "      <td>N928DN</td>\n",
       "      <td>LGA</td>\n",
       "      <td>ATL</td>\n",
       "      <td>1000</td>\n",
       "      <td>...</td>\n",
       "      <td>NaN</td>\n",
       "      <td>NaN</td>\n",
       "      <td>NaN</td>\n",
       "      <td>NaN</td>\n",
       "      <td>2.0</td>\n",
       "      <td>1</td>\n",
       "      <td>0</td>\n",
       "      <td>1</td>\n",
       "      <td>0</td>\n",
       "      <td>0</td>\n",
       "    </tr>\n",
       "    <tr>\n",
       "      <th>2005112</th>\n",
       "      <td>2015</td>\n",
       "      <td>5</td>\n",
       "      <td>8</td>\n",
       "      <td>5</td>\n",
       "      <td>US</td>\n",
       "      <td>1995</td>\n",
       "      <td>N582UW</td>\n",
       "      <td>DFW</td>\n",
       "      <td>PHL</td>\n",
       "      <td>825</td>\n",
       "      <td>...</td>\n",
       "      <td>NaN</td>\n",
       "      <td>NaN</td>\n",
       "      <td>NaN</td>\n",
       "      <td>NaN</td>\n",
       "      <td>2.0</td>\n",
       "      <td>1</td>\n",
       "      <td>0</td>\n",
       "      <td>1</td>\n",
       "      <td>0</td>\n",
       "      <td>0</td>\n",
       "    </tr>\n",
       "    <tr>\n",
       "      <th>2399191</th>\n",
       "      <td>2015</td>\n",
       "      <td>6</td>\n",
       "      <td>1</td>\n",
       "      <td>1</td>\n",
       "      <td>AA</td>\n",
       "      <td>1140</td>\n",
       "      <td>N3DVAA</td>\n",
       "      <td>LGA</td>\n",
       "      <td>DFW</td>\n",
       "      <td>1825</td>\n",
       "      <td>...</td>\n",
       "      <td>NaN</td>\n",
       "      <td>NaN</td>\n",
       "      <td>NaN</td>\n",
       "      <td>NaN</td>\n",
       "      <td>4.0</td>\n",
       "      <td>1</td>\n",
       "      <td>0</td>\n",
       "      <td>0</td>\n",
       "      <td>0</td>\n",
       "      <td>1</td>\n",
       "    </tr>\n",
       "    <tr>\n",
       "      <th>2672012</th>\n",
       "      <td>2015</td>\n",
       "      <td>6</td>\n",
       "      <td>18</td>\n",
       "      <td>4</td>\n",
       "      <td>OO</td>\n",
       "      <td>5604</td>\n",
       "      <td>N679SA</td>\n",
       "      <td>ACV</td>\n",
       "      <td>SFO</td>\n",
       "      <td>600</td>\n",
       "      <td>...</td>\n",
       "      <td>NaN</td>\n",
       "      <td>NaN</td>\n",
       "      <td>NaN</td>\n",
       "      <td>NaN</td>\n",
       "      <td>1.0</td>\n",
       "      <td>1</td>\n",
       "      <td>1</td>\n",
       "      <td>0</td>\n",
       "      <td>0</td>\n",
       "      <td>0</td>\n",
       "    </tr>\n",
       "    <tr>\n",
       "      <th>4247841</th>\n",
       "      <td>2015</td>\n",
       "      <td>9</td>\n",
       "      <td>22</td>\n",
       "      <td>2</td>\n",
       "      <td>WN</td>\n",
       "      <td>1583</td>\n",
       "      <td>N720WN</td>\n",
       "      <td>STL</td>\n",
       "      <td>TPA</td>\n",
       "      <td>915</td>\n",
       "      <td>...</td>\n",
       "      <td>NaN</td>\n",
       "      <td>NaN</td>\n",
       "      <td>NaN</td>\n",
       "      <td>NaN</td>\n",
       "      <td>2.0</td>\n",
       "      <td>1</td>\n",
       "      <td>0</td>\n",
       "      <td>1</td>\n",
       "      <td>0</td>\n",
       "      <td>0</td>\n",
       "    </tr>\n",
       "  </tbody>\n",
       "</table>\n",
       "<p>5 rows × 37 columns</p>\n",
       "</div>"
      ],
      "text/plain": [
       "         YEAR  MONTH  DAY  DAY_OF_WEEK AIRLINE  FLIGHT_NUMBER TAIL_NUMBER  \\\n",
       "609404   2015      2   10            2      DL           2001      N928DN   \n",
       "2005112  2015      5    8            5      US           1995      N582UW   \n",
       "2399191  2015      6    1            1      AA           1140      N3DVAA   \n",
       "2672012  2015      6   18            4      OO           5604      N679SA   \n",
       "4247841  2015      9   22            2      WN           1583      N720WN   \n",
       "\n",
       "        ORIGIN_AIRPORT DESTINATION_AIRPORT  SCHEDULED_DEPARTURE  ...  \\\n",
       "609404             LGA                 ATL                 1000  ...   \n",
       "2005112            DFW                 PHL                  825  ...   \n",
       "2399191            LGA                 DFW                 1825  ...   \n",
       "2672012            ACV                 SFO                  600  ...   \n",
       "4247841            STL                 TPA                  915  ...   \n",
       "\n",
       "         SECURITY_DELAY  AIRLINE_DELAY  LATE_AIRCRAFT_DELAY  WEATHER_DELAY  \\\n",
       "609404              NaN            NaN                  NaN            NaN   \n",
       "2005112             NaN            NaN                  NaN            NaN   \n",
       "2399191             NaN            NaN                  NaN            NaN   \n",
       "2672012             NaN            NaN                  NaN            NaN   \n",
       "4247841             NaN            NaN                  NaN            NaN   \n",
       "\n",
       "         session  operated  session1_count  session2_count  session3_count  \\\n",
       "609404       2.0         1               0               1               0   \n",
       "2005112      2.0         1               0               1               0   \n",
       "2399191      4.0         1               0               0               0   \n",
       "2672012      1.0         1               1               0               0   \n",
       "4247841      2.0         1               0               1               0   \n",
       "\n",
       "         session4_count  \n",
       "609404                0  \n",
       "2005112               0  \n",
       "2399191               1  \n",
       "2672012               0  \n",
       "4247841               0  \n",
       "\n",
       "[5 rows x 37 columns]"
      ]
     },
     "execution_count": 10,
     "metadata": {},
     "output_type": "execute_result"
    }
   ],
   "source": [
    "df_flights.sample(5)"
   ]
  },
  {
   "cell_type": "code",
   "execution_count": 11,
   "id": "fc6c3a09-5e9a-4a9c-bf22-9d29171ece7a",
   "metadata": {},
   "outputs": [],
   "source": [
    "df_session_list = list()"
   ]
  },
  {
   "cell_type": "code",
   "execution_count": 12,
   "id": "cf716622-5a63-43d9-9b44-354fdfa6cb00",
   "metadata": {
    "tags": []
   },
   "outputs": [],
   "source": [
    "df_session_list.append(df_flights.groupby('ORIGIN_AIRPORT').agg(operated_flight_count = ('operated', 'sum')).reset_index())"
   ]
  },
  {
   "cell_type": "code",
   "execution_count": 13,
   "id": "72f70766-6ebf-4e2d-881b-c2363136a836",
   "metadata": {
    "tags": []
   },
   "outputs": [
    {
     "data": {
      "text/html": [
       "<div>\n",
       "<style scoped>\n",
       "    .dataframe tbody tr th:only-of-type {\n",
       "        vertical-align: middle;\n",
       "    }\n",
       "\n",
       "    .dataframe tbody tr th {\n",
       "        vertical-align: top;\n",
       "    }\n",
       "\n",
       "    .dataframe thead th {\n",
       "        text-align: right;\n",
       "    }\n",
       "</style>\n",
       "<table border=\"1\" class=\"dataframe\">\n",
       "  <thead>\n",
       "    <tr style=\"text-align: right;\">\n",
       "      <th></th>\n",
       "      <th>ORIGIN_AIRPORT</th>\n",
       "      <th>operated_flight_count</th>\n",
       "    </tr>\n",
       "  </thead>\n",
       "  <tbody>\n",
       "    <tr>\n",
       "      <th>0</th>\n",
       "      <td>10135</td>\n",
       "      <td>226</td>\n",
       "    </tr>\n",
       "    <tr>\n",
       "      <th>1</th>\n",
       "      <td>10136</td>\n",
       "      <td>182</td>\n",
       "    </tr>\n",
       "    <tr>\n",
       "      <th>2</th>\n",
       "      <td>10140</td>\n",
       "      <td>1706</td>\n",
       "    </tr>\n",
       "    <tr>\n",
       "      <th>3</th>\n",
       "      <td>10141</td>\n",
       "      <td>66</td>\n",
       "    </tr>\n",
       "    <tr>\n",
       "      <th>4</th>\n",
       "      <td>10146</td>\n",
       "      <td>82</td>\n",
       "    </tr>\n",
       "    <tr>\n",
       "      <th>...</th>\n",
       "      <td>...</td>\n",
       "      <td>...</td>\n",
       "    </tr>\n",
       "    <tr>\n",
       "      <th>925</th>\n",
       "      <td>WRG</td>\n",
       "      <td>653</td>\n",
       "    </tr>\n",
       "    <tr>\n",
       "      <th>926</th>\n",
       "      <td>WYS</td>\n",
       "      <td>208</td>\n",
       "    </tr>\n",
       "    <tr>\n",
       "      <th>927</th>\n",
       "      <td>XNA</td>\n",
       "      <td>8987</td>\n",
       "    </tr>\n",
       "    <tr>\n",
       "      <th>928</th>\n",
       "      <td>YAK</td>\n",
       "      <td>657</td>\n",
       "    </tr>\n",
       "    <tr>\n",
       "      <th>929</th>\n",
       "      <td>YUM</td>\n",
       "      <td>1854</td>\n",
       "    </tr>\n",
       "  </tbody>\n",
       "</table>\n",
       "<p>930 rows × 2 columns</p>\n",
       "</div>"
      ],
      "text/plain": [
       "    ORIGIN_AIRPORT  operated_flight_count\n",
       "0            10135                    226\n",
       "1            10136                    182\n",
       "2            10140                   1706\n",
       "3            10141                     66\n",
       "4            10146                     82\n",
       "..             ...                    ...\n",
       "925            WRG                    653\n",
       "926            WYS                    208\n",
       "927            XNA                   8987\n",
       "928            YAK                    657\n",
       "929            YUM                   1854\n",
       "\n",
       "[930 rows x 2 columns]"
      ]
     },
     "execution_count": 13,
     "metadata": {},
     "output_type": "execute_result"
    }
   ],
   "source": [
    "df_session_list[0]"
   ]
  },
  {
   "cell_type": "code",
   "execution_count": 14,
   "id": "cf38cff1-ee4e-4146-b891-3d443619c8dc",
   "metadata": {
    "tags": []
   },
   "outputs": [],
   "source": [
    "for i in range(1, total_session + 1):\n",
    "    df = df_flights.groupby('ORIGIN_AIRPORT').agg({f'session{i}_count':'sum'}).reset_index()\n",
    "    df_session_list.append(df)"
   ]
  },
  {
   "cell_type": "code",
   "execution_count": 15,
   "id": "0b0c965b-f562-49e5-ae38-db2323de1472",
   "metadata": {
    "tags": []
   },
   "outputs": [
    {
     "data": {
      "text/plain": [
       "[    ORIGIN_AIRPORT  operated_flight_count\n",
       " 0            10135                    226\n",
       " 1            10136                    182\n",
       " 2            10140                   1706\n",
       " 3            10141                     66\n",
       " 4            10146                     82\n",
       " ..             ...                    ...\n",
       " 925            WRG                    653\n",
       " 926            WYS                    208\n",
       " 927            XNA                   8987\n",
       " 928            YAK                    657\n",
       " 929            YUM                   1854\n",
       " \n",
       " [930 rows x 2 columns],\n",
       "     ORIGIN_AIRPORT  session1_count\n",
       " 0            10135              33\n",
       " 1            10136              17\n",
       " 2            10140              72\n",
       " 3            10141              28\n",
       " 4            10146              20\n",
       " ..             ...             ...\n",
       " 925            WRG               0\n",
       " 926            WYS               0\n",
       " 927            XNA             737\n",
       " 928            YAK               0\n",
       " 929            YUM               0\n",
       " \n",
       " [930 rows x 2 columns],\n",
       "     ORIGIN_AIRPORT  session2_count\n",
       " 0            10135              76\n",
       " 1            10136             108\n",
       " 2            10140             688\n",
       " 3            10141               0\n",
       " 4            10146              12\n",
       " ..             ...             ...\n",
       " 925            WRG             309\n",
       " 926            WYS               0\n",
       " 927            XNA            3389\n",
       " 928            YAK             287\n",
       " 929            YUM            1126\n",
       " \n",
       " [930 rows x 2 columns],\n",
       "     ORIGIN_AIRPORT  session3_count\n",
       " 0            10135             114\n",
       " 1            10136              31\n",
       " 2            10140             761\n",
       " 3            10141              38\n",
       " 4            10146              45\n",
       " ..             ...             ...\n",
       " 925            WRG             323\n",
       " 926            WYS             199\n",
       " 927            XNA            3668\n",
       " 928            YAK              65\n",
       " 929            YUM             576\n",
       " \n",
       " [930 rows x 2 columns],\n",
       "     ORIGIN_AIRPORT  session4_count\n",
       " 0            10135               3\n",
       " 1            10136              26\n",
       " 2            10140             186\n",
       " 3            10141               0\n",
       " 4            10146               5\n",
       " ..             ...             ...\n",
       " 925            WRG              21\n",
       " 926            WYS               9\n",
       " 927            XNA            1203\n",
       " 928            YAK             305\n",
       " 929            YUM             152\n",
       " \n",
       " [930 rows x 2 columns]]"
      ]
     },
     "execution_count": 15,
     "metadata": {},
     "output_type": "execute_result"
    }
   ],
   "source": [
    "df_session_list"
   ]
  },
  {
   "cell_type": "code",
   "execution_count": 16,
   "id": "a26817bf-b550-45d8-bda9-d1091862f73e",
   "metadata": {
    "tags": []
   },
   "outputs": [],
   "source": [
    "df_output = df_session_list[0]"
   ]
  },
  {
   "cell_type": "code",
   "execution_count": 17,
   "id": "da0400d8-42de-4798-af81-13ceb748bf1b",
   "metadata": {
    "tags": []
   },
   "outputs": [],
   "source": [
    "for i in range(1, total_session + 1):\n",
    "    df_output = pd.merge(df_output, df_session_list[i], how = 'outer', on = 'ORIGIN_AIRPORT')"
   ]
  },
  {
   "cell_type": "code",
   "execution_count": 18,
   "id": "d0f25edc-a3dc-4aa4-806c-004a6194561e",
   "metadata": {
    "tags": []
   },
   "outputs": [
    {
     "data": {
      "text/html": [
       "<div>\n",
       "<style scoped>\n",
       "    .dataframe tbody tr th:only-of-type {\n",
       "        vertical-align: middle;\n",
       "    }\n",
       "\n",
       "    .dataframe tbody tr th {\n",
       "        vertical-align: top;\n",
       "    }\n",
       "\n",
       "    .dataframe thead th {\n",
       "        text-align: right;\n",
       "    }\n",
       "</style>\n",
       "<table border=\"1\" class=\"dataframe\">\n",
       "  <thead>\n",
       "    <tr style=\"text-align: right;\">\n",
       "      <th></th>\n",
       "      <th>ORIGIN_AIRPORT</th>\n",
       "      <th>operated_flight_count</th>\n",
       "      <th>session1_count</th>\n",
       "      <th>session2_count</th>\n",
       "      <th>session3_count</th>\n",
       "      <th>session4_count</th>\n",
       "    </tr>\n",
       "  </thead>\n",
       "  <tbody>\n",
       "    <tr>\n",
       "      <th>298</th>\n",
       "      <td>15412</td>\n",
       "      <td>588</td>\n",
       "      <td>5</td>\n",
       "      <td>290</td>\n",
       "      <td>240</td>\n",
       "      <td>53</td>\n",
       "    </tr>\n",
       "    <tr>\n",
       "      <th>496</th>\n",
       "      <td>13342</td>\n",
       "      <td>146</td>\n",
       "      <td>7</td>\n",
       "      <td>65</td>\n",
       "      <td>57</td>\n",
       "      <td>17</td>\n",
       "    </tr>\n",
       "    <tr>\n",
       "      <th>535</th>\n",
       "      <td>14193</td>\n",
       "      <td>26</td>\n",
       "      <td>0</td>\n",
       "      <td>14</td>\n",
       "      <td>9</td>\n",
       "      <td>3</td>\n",
       "    </tr>\n",
       "    <tr>\n",
       "      <th>118</th>\n",
       "      <td>11921</td>\n",
       "      <td>257</td>\n",
       "      <td>0</td>\n",
       "      <td>148</td>\n",
       "      <td>79</td>\n",
       "      <td>30</td>\n",
       "    </tr>\n",
       "    <tr>\n",
       "      <th>25</th>\n",
       "      <td>10529</td>\n",
       "      <td>1616</td>\n",
       "      <td>128</td>\n",
       "      <td>685</td>\n",
       "      <td>596</td>\n",
       "      <td>207</td>\n",
       "    </tr>\n",
       "  </tbody>\n",
       "</table>\n",
       "</div>"
      ],
      "text/plain": [
       "    ORIGIN_AIRPORT  operated_flight_count  session1_count  session2_count  \\\n",
       "298          15412                    588               5             290   \n",
       "496          13342                    146               7              65   \n",
       "535          14193                     26               0              14   \n",
       "118          11921                    257               0             148   \n",
       "25           10529                   1616             128             685   \n",
       "\n",
       "     session3_count  session4_count  \n",
       "298             240              53  \n",
       "496              57              17  \n",
       "535               9               3  \n",
       "118              79              30  \n",
       "25              596             207  "
      ]
     },
     "execution_count": 18,
     "metadata": {},
     "output_type": "execute_result"
    }
   ],
   "source": [
    "df_output.sample(5)"
   ]
  },
  {
   "cell_type": "code",
   "execution_count": 19,
   "id": "b4f57e88-ec50-4723-ad62-9b831749a5d2",
   "metadata": {
    "tags": []
   },
   "outputs": [],
   "source": [
    "for i in range(1, total_session + 1):\n",
    "    df_output[f'session{i}_ratio'] = df_output[f'session{i}_count'] / df_output['operated_flight_count']"
   ]
  },
  {
   "cell_type": "code",
   "execution_count": 20,
   "id": "dc9b0075-cc7f-4595-9f49-b8dd128476e2",
   "metadata": {
    "tags": []
   },
   "outputs": [
    {
     "data": {
      "text/html": [
       "<div>\n",
       "<style scoped>\n",
       "    .dataframe tbody tr th:only-of-type {\n",
       "        vertical-align: middle;\n",
       "    }\n",
       "\n",
       "    .dataframe tbody tr th {\n",
       "        vertical-align: top;\n",
       "    }\n",
       "\n",
       "    .dataframe thead th {\n",
       "        text-align: right;\n",
       "    }\n",
       "</style>\n",
       "<table border=\"1\" class=\"dataframe\">\n",
       "  <thead>\n",
       "    <tr style=\"text-align: right;\">\n",
       "      <th></th>\n",
       "      <th>ORIGIN_AIRPORT</th>\n",
       "      <th>operated_flight_count</th>\n",
       "      <th>session1_count</th>\n",
       "      <th>session2_count</th>\n",
       "      <th>session3_count</th>\n",
       "      <th>session4_count</th>\n",
       "      <th>session1_ratio</th>\n",
       "      <th>session2_ratio</th>\n",
       "      <th>session3_ratio</th>\n",
       "      <th>session4_ratio</th>\n",
       "    </tr>\n",
       "  </thead>\n",
       "  <tbody>\n",
       "    <tr>\n",
       "      <th>839</th>\n",
       "      <td>OTH</td>\n",
       "      <td>265</td>\n",
       "      <td>0</td>\n",
       "      <td>1</td>\n",
       "      <td>260</td>\n",
       "      <td>4</td>\n",
       "      <td>0.000000</td>\n",
       "      <td>0.003774</td>\n",
       "      <td>0.981132</td>\n",
       "      <td>0.015094</td>\n",
       "    </tr>\n",
       "    <tr>\n",
       "      <th>463</th>\n",
       "      <td>12819</td>\n",
       "      <td>12</td>\n",
       "      <td>0</td>\n",
       "      <td>4</td>\n",
       "      <td>6</td>\n",
       "      <td>2</td>\n",
       "      <td>0.000000</td>\n",
       "      <td>0.333333</td>\n",
       "      <td>0.500000</td>\n",
       "      <td>0.166667</td>\n",
       "    </tr>\n",
       "    <tr>\n",
       "      <th>665</th>\n",
       "      <td>CEC</td>\n",
       "      <td>174</td>\n",
       "      <td>26</td>\n",
       "      <td>58</td>\n",
       "      <td>86</td>\n",
       "      <td>4</td>\n",
       "      <td>0.149425</td>\n",
       "      <td>0.333333</td>\n",
       "      <td>0.494253</td>\n",
       "      <td>0.022989</td>\n",
       "    </tr>\n",
       "    <tr>\n",
       "      <th>861</th>\n",
       "      <td>PWM</td>\n",
       "      <td>4543</td>\n",
       "      <td>605</td>\n",
       "      <td>1438</td>\n",
       "      <td>1905</td>\n",
       "      <td>597</td>\n",
       "      <td>0.133172</td>\n",
       "      <td>0.316531</td>\n",
       "      <td>0.419326</td>\n",
       "      <td>0.131411</td>\n",
       "    </tr>\n",
       "    <tr>\n",
       "      <th>745</th>\n",
       "      <td>GUM</td>\n",
       "      <td>331</td>\n",
       "      <td>0</td>\n",
       "      <td>329</td>\n",
       "      <td>2</td>\n",
       "      <td>1</td>\n",
       "      <td>0.000000</td>\n",
       "      <td>0.993958</td>\n",
       "      <td>0.006042</td>\n",
       "      <td>0.003021</td>\n",
       "    </tr>\n",
       "  </tbody>\n",
       "</table>\n",
       "</div>"
      ],
      "text/plain": [
       "    ORIGIN_AIRPORT  operated_flight_count  session1_count  session2_count  \\\n",
       "839            OTH                    265               0               1   \n",
       "463          12819                     12               0               4   \n",
       "665            CEC                    174              26              58   \n",
       "861            PWM                   4543             605            1438   \n",
       "745            GUM                    331               0             329   \n",
       "\n",
       "     session3_count  session4_count  session1_ratio  session2_ratio  \\\n",
       "839             260               4        0.000000        0.003774   \n",
       "463               6               2        0.000000        0.333333   \n",
       "665              86               4        0.149425        0.333333   \n",
       "861            1905             597        0.133172        0.316531   \n",
       "745               2               1        0.000000        0.993958   \n",
       "\n",
       "     session3_ratio  session4_ratio  \n",
       "839        0.981132        0.015094  \n",
       "463        0.500000        0.166667  \n",
       "665        0.494253        0.022989  \n",
       "861        0.419326        0.131411  \n",
       "745        0.006042        0.003021  "
      ]
     },
     "execution_count": 20,
     "metadata": {},
     "output_type": "execute_result"
    }
   ],
   "source": [
    "df_output.sample(5)"
   ]
  },
  {
   "cell_type": "code",
   "execution_count": 21,
   "id": "a11f9d72-7cec-4c1c-96e9-1c093c067708",
   "metadata": {
    "tags": []
   },
   "outputs": [],
   "source": [
    "final_output = df_output.drop(columns = 'operated_flight_count')"
   ]
  },
  {
   "cell_type": "code",
   "execution_count": 22,
   "id": "7495f644-07ac-4676-944e-b3a57ec1070f",
   "metadata": {
    "tags": []
   },
   "outputs": [],
   "source": [
    "for i in range(1, total_session + 1):\n",
    "    final_output = final_output.drop(columns = f'session{i}_count')"
   ]
  },
  {
   "cell_type": "code",
   "execution_count": 23,
   "id": "bce29152-a19e-494f-be92-a26a49ded492",
   "metadata": {
    "tags": []
   },
   "outputs": [
    {
     "data": {
      "text/html": [
       "<div>\n",
       "<style scoped>\n",
       "    .dataframe tbody tr th:only-of-type {\n",
       "        vertical-align: middle;\n",
       "    }\n",
       "\n",
       "    .dataframe tbody tr th {\n",
       "        vertical-align: top;\n",
       "    }\n",
       "\n",
       "    .dataframe thead th {\n",
       "        text-align: right;\n",
       "    }\n",
       "</style>\n",
       "<table border=\"1\" class=\"dataframe\">\n",
       "  <thead>\n",
       "    <tr style=\"text-align: right;\">\n",
       "      <th></th>\n",
       "      <th>ORIGIN_AIRPORT</th>\n",
       "      <th>session1_ratio</th>\n",
       "      <th>session2_ratio</th>\n",
       "      <th>session3_ratio</th>\n",
       "      <th>session4_ratio</th>\n",
       "    </tr>\n",
       "  </thead>\n",
       "  <tbody>\n",
       "    <tr>\n",
       "      <th>744</th>\n",
       "      <td>GUC</td>\n",
       "      <td>0.000000</td>\n",
       "      <td>0.233051</td>\n",
       "      <td>0.735169</td>\n",
       "      <td>0.036017</td>\n",
       "    </tr>\n",
       "    <tr>\n",
       "      <th>615</th>\n",
       "      <td>ACV</td>\n",
       "      <td>0.190701</td>\n",
       "      <td>0.249015</td>\n",
       "      <td>0.381403</td>\n",
       "      <td>0.179669</td>\n",
       "    </tr>\n",
       "    <tr>\n",
       "      <th>835</th>\n",
       "      <td>ONT</td>\n",
       "      <td>0.099854</td>\n",
       "      <td>0.420038</td>\n",
       "      <td>0.303608</td>\n",
       "      <td>0.176950</td>\n",
       "    </tr>\n",
       "    <tr>\n",
       "      <th>874</th>\n",
       "      <td>RSW</td>\n",
       "      <td>0.041852</td>\n",
       "      <td>0.329374</td>\n",
       "      <td>0.416556</td>\n",
       "      <td>0.212515</td>\n",
       "    </tr>\n",
       "    <tr>\n",
       "      <th>632</th>\n",
       "      <td>AVP</td>\n",
       "      <td>0.205109</td>\n",
       "      <td>0.371901</td>\n",
       "      <td>0.380917</td>\n",
       "      <td>0.042074</td>\n",
       "    </tr>\n",
       "  </tbody>\n",
       "</table>\n",
       "</div>"
      ],
      "text/plain": [
       "    ORIGIN_AIRPORT  session1_ratio  session2_ratio  session3_ratio  \\\n",
       "744            GUC        0.000000        0.233051        0.735169   \n",
       "615            ACV        0.190701        0.249015        0.381403   \n",
       "835            ONT        0.099854        0.420038        0.303608   \n",
       "874            RSW        0.041852        0.329374        0.416556   \n",
       "632            AVP        0.205109        0.371901        0.380917   \n",
       "\n",
       "     session4_ratio  \n",
       "744        0.036017  \n",
       "615        0.179669  \n",
       "835        0.176950  \n",
       "874        0.212515  \n",
       "632        0.042074  "
      ]
     },
     "execution_count": 23,
     "metadata": {},
     "output_type": "execute_result"
    }
   ],
   "source": [
    "final_output.sample(5)"
   ]
  },
  {
   "cell_type": "code",
   "execution_count": 24,
   "id": "d8f6313a-9a2e-4483-85a0-a31ff8934eea",
   "metadata": {
    "tags": []
   },
   "outputs": [
    {
     "name": "stdout",
     "output_type": "stream",
     "text": [
      "Requirement already satisfied: plotly in /Users/kwokwingliu/anaconda3/lib/python3.11/site-packages (5.9.0)\n",
      "Requirement already satisfied: tenacity>=6.2.0 in /Users/kwokwingliu/anaconda3/lib/python3.11/site-packages (from plotly) (8.2.2)\n"
     ]
    }
   ],
   "source": [
    "!pip install plotly"
   ]
  },
  {
   "cell_type": "code",
   "execution_count": 25,
   "id": "5c116312-4879-4202-b83a-a493a93a352c",
   "metadata": {
    "tags": []
   },
   "outputs": [],
   "source": [
    "import plotly.express as px\n",
    "import plotly.io as pio\n",
    "import plotly.graph_objects as go\n",
    "pio.renderers.default = 'iframe'"
   ]
  },
  {
   "cell_type": "code",
   "execution_count": 26,
   "id": "55ddaf41-dbff-45d5-b1ea-77fbc8b7088e",
   "metadata": {
    "tags": []
   },
   "outputs": [],
   "source": [
    "df_plot = final_output.tail(10)"
   ]
  },
  {
   "cell_type": "code",
   "execution_count": 27,
   "id": "345e7351-9c28-46cb-b2b9-d946de46bfc7",
   "metadata": {
    "tags": []
   },
   "outputs": [],
   "source": [
    "session_ratio_list = []"
   ]
  },
  {
   "cell_type": "code",
   "execution_count": 28,
   "id": "2573040b-0a70-4c16-9203-3408b0e2a3a2",
   "metadata": {
    "tags": []
   },
   "outputs": [],
   "source": [
    "for row in df_plot.iterrows():\n",
    "    session_ratio_list.append(list(row[1]))"
   ]
  },
  {
   "cell_type": "code",
   "execution_count": 29,
   "id": "c986e75c-a766-4e97-af8c-cc3cc6becdef",
   "metadata": {
    "tags": []
   },
   "outputs": [
    {
     "data": {
      "text/plain": [
       "[['TYS',\n",
       "  0.03136504196730967,\n",
       "  0.48873509056103664,\n",
       "  0.3619496392283905,\n",
       "  0.11883375055220144],\n",
       " ['UST', 0.006944444444444444, 0.2777777777777778, 0.09027777777777778, 0.625],\n",
       " ['VEL', 0.0, 0.575, 0.17, 0.255],\n",
       " ['VLD',\n",
       "  0.2513484358144552,\n",
       "  0.3117583603020496,\n",
       "  0.41423948220064727,\n",
       "  0.022653721682847898],\n",
       " ['VPS',\n",
       "  0.09750471797022436,\n",
       "  0.3810023065632208,\n",
       "  0.44181170056615643,\n",
       "  0.07989096246592577],\n",
       " ['WRG', 0.0, 0.47320061255742724, 0.4946401225114854, 0.03215926493108729],\n",
       " ['WYS', 0.0, 0.0, 0.9567307692307693, 0.04326923076923077],\n",
       " ['XNA',\n",
       "  0.08200734394124846,\n",
       "  0.37710025592522534,\n",
       "  0.40814509847557584,\n",
       "  0.1338600200289307],\n",
       " ['YAK', 0.0, 0.4368340943683409, 0.0989345509893455, 0.4642313546423135],\n",
       " ['YUM', 0.0, 0.6073354908306364, 0.3106796116504854, 0.08198489751887811]]"
      ]
     },
     "execution_count": 29,
     "metadata": {},
     "output_type": "execute_result"
    }
   ],
   "source": [
    "session_ratio_list"
   ]
  },
  {
   "cell_type": "code",
   "execution_count": 42,
   "id": "cd6e076c-4703-4878-ab19-90de3defd561",
   "metadata": {
    "tags": []
   },
   "outputs": [],
   "source": [
    "fig = go.Figure()"
   ]
  },
  {
   "cell_type": "code",
   "execution_count": 43,
   "id": "604a443b-0584-4857-9ce6-5f250e206947",
   "metadata": {},
   "outputs": [],
   "source": [
    "for i in session_ratio_list:\n",
    "    fig.add_trace(\n",
    "        go.Scatter(\n",
    "            x = [f\"session{j}\" for j in range(1, total_session + 1)],\n",
    "            y = i[1::],\n",
    "            mode = \"lines\",\n",
    "            name = i[0]\n",
    "        )\n",
    "    )"
   ]
  },
  {
   "cell_type": "code",
   "execution_count": 44,
   "id": "a813f9f3-14a6-4c7a-a5cf-8a736470971b",
   "metadata": {
    "tags": []
   },
   "outputs": [
    {
     "data": {
      "text/html": [
       "<iframe\n",
       "    scrolling=\"no\"\n",
       "    width=\"100%\"\n",
       "    height=\"545px\"\n",
       "    src=\"iframe_figures/figure_44.html\"\n",
       "    frameborder=\"0\"\n",
       "    allowfullscreen\n",
       "></iframe>\n"
      ]
     },
     "metadata": {},
     "output_type": "display_data"
    }
   ],
   "source": [
    "fig.update_layout(\n",
    "    title = \"Flight Ratio in Different Time Sessions per Airport\",\n",
    "    xaxis_title = \"Session\",\n",
    "    yaxis_title = \"Ratio\",\n",
    "    legend_title = \"Airport Code\",\n",
    ")"
   ]
  }
 ],
 "metadata": {
  "kernelspec": {
   "display_name": "Python 3 (ipykernel)",
   "language": "python",
   "name": "python3"
  },
  "language_info": {
   "codemirror_mode": {
    "name": "ipython",
    "version": 3
   },
   "file_extension": ".py",
   "mimetype": "text/x-python",
   "name": "python",
   "nbconvert_exporter": "python",
   "pygments_lexer": "ipython3",
   "version": "3.11.4"
  }
 },
 "nbformat": 4,
 "nbformat_minor": 5
}
