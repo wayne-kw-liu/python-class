{
 "cells": [
  {
   "cell_type": "code",
   "execution_count": null,
   "id": "e09576f1-ac91-4387-9a65-d548fe4461ab",
   "metadata": {},
   "outputs": [],
   "source": [
    "# find the item without duplication in a list\n",
    "#   -create a list [0,1,1,2,2,...,n,n] and shuffle\n",
    "#   -search the unique item in a list with 2 methods\n",
    "#      -brutal method: use 2 dimension loop to compare each item (O(n^2))\n",
    "#      -dictionary method: create a dict to record the no. of times each item appear (O(n))\n",
    "#   -record the time required for each method\n",
    "#   -compare the time required when n is increase by x10 for each method"
   ]
  },
  {
   "cell_type": "code",
   "execution_count": 1,
   "id": "7fa7a33a-8b0f-4368-9396-51643e7c1e1c",
   "metadata": {
    "tags": []
   },
   "outputs": [],
   "source": [
    "def create_list(n): #create a list [0,1,1,2,2,...,n,n] and shuffle\n",
    "    my_list = [0]\n",
    "    for i in range(0,n):\n",
    "        my_list.append(i+1)\n",
    "        my_list.append(i+1)\n",
    "    import random\n",
    "    random.shuffle(my_list)\n",
    "    return my_list"
   ]
  },
  {
   "cell_type": "code",
   "execution_count": 2,
   "id": "73133195-5cd1-4a35-8068-4ed10512489e",
   "metadata": {
    "tags": []
   },
   "outputs": [],
   "source": [
    "def brutal_method(n): \n",
    "    my_list = create_list(n)\n",
    "    import timeit\n",
    "    start_time = timeit.default_timer() # record start time\n",
    "    for i in range(len(my_list)):\n",
    "        check_dup = False\n",
    "        for j in range(len(my_list)):\n",
    "            if i == j:\n",
    "                continue\n",
    "            if my_list[i] == my_list[j]:\n",
    "                check_dup = True\n",
    "        if not check_dup:\n",
    "            no_dup_ind = i\n",
    "    # Target item found. Can break loop.\n",
    "    # But here we do not break to record the time required for whole loop\n",
    "    end_time = timeit.default_timer() # record end time\n",
    "    print(f\"Index = {no_dup_ind}. Unique item is {my_list[no_dup_ind]}\")\n",
    "    print(f\"time required = {end_time - start_time} seconds\")"
   ]
  },
  {
   "cell_type": "code",
   "execution_count": 3,
   "id": "70623354-ae3e-4ceb-8b66-c7cb03f2a2ac",
   "metadata": {
    "tags": []
   },
   "outputs": [],
   "source": [
    "def dict_method(n): \n",
    "    my_list = create_list(n)\n",
    "    import timeit\n",
    "    start_time = timeit.default_timer() # record start time\n",
    "    my_dict = dict() #key: item in my_list, value: no. of time appear\n",
    "    for i in range(len(my_list)):\n",
    "        if my_list[i] in my_dict:\n",
    "            my_dict[my_list[i]] += 1\n",
    "        else:\n",
    "            my_dict[my_list[i]] = 1\n",
    "    for i in my_dict:\n",
    "        if my_dict[i] == 1:\n",
    "            no_dup_item = i\n",
    "    for i in range(2 * n + 1):\n",
    "        if my_list[i] == no_dup_item:\n",
    "            no_dup_ind = i\n",
    "    end_time = timeit.default_timer() # record end time\n",
    "    print(f\"Index = {no_dup_ind}. Unique item is {my_list[no_dup_ind]}\")\n",
    "    print(f\"time required = {end_time - start_time} seconds\")"
   ]
  },
  {
   "cell_type": "code",
   "execution_count": 13,
   "id": "c50f087a-f9fb-4171-8870-6957682ed5d6",
   "metadata": {
    "tags": []
   },
   "outputs": [
    {
     "name": "stdout",
     "output_type": "stream",
     "text": [
      "Index = 160. Unique item is 0\n",
      "time required = 0.0036297700000886834 seconds\n"
     ]
    }
   ],
   "source": [
    "brutal_method(100)"
   ]
  },
  {
   "cell_type": "code",
   "execution_count": 8,
   "id": "dbff8f86-70f3-40c7-9f23-cf8567a4684c",
   "metadata": {
    "tags": []
   },
   "outputs": [
    {
     "name": "stdout",
     "output_type": "stream",
     "text": [
      "Index = 207. Unique item is 0\n",
      "time required = 0.3563472159999037 seconds\n"
     ]
    }
   ],
   "source": [
    "brutal_method(1000)"
   ]
  },
  {
   "cell_type": "code",
   "execution_count": null,
   "id": "ee9ce24b-1a3b-4bd0-b662-00f0f5ff3312",
   "metadata": {},
   "outputs": [],
   "source": [
    "# With complexity O(n^2), time required increases by x100 when n x10"
   ]
  },
  {
   "cell_type": "code",
   "execution_count": 29,
   "id": "5f1b4e92-2267-4163-b787-39b5f745a34e",
   "metadata": {
    "tags": []
   },
   "outputs": [
    {
     "name": "stdout",
     "output_type": "stream",
     "text": [
      "Index = 17017. Unique item is 0\n",
      "time required = 0.00855430499996146 seconds\n"
     ]
    }
   ],
   "source": [
    "dict_method(10000)"
   ]
  },
  {
   "cell_type": "code",
   "execution_count": 27,
   "id": "e40accd5-3cea-4dad-bf04-b777dc2886ad",
   "metadata": {
    "tags": []
   },
   "outputs": [
    {
     "name": "stdout",
     "output_type": "stream",
     "text": [
      "Index = 83703. Unique item is 0\n",
      "time required = 0.09293005400013499 seconds\n"
     ]
    }
   ],
   "source": [
    "dict_method(100000)"
   ]
  },
  {
   "cell_type": "code",
   "execution_count": null,
   "id": "120c2d1f-5147-47cc-8bfc-9dc8f08b1b99",
   "metadata": {},
   "outputs": [],
   "source": [
    "# With complexity O(n), time required increases by x10 when n x10"
   ]
  }
 ],
 "metadata": {
  "kernelspec": {
   "display_name": "Python 3 (ipykernel)",
   "language": "python",
   "name": "python3"
  },
  "language_info": {
   "codemirror_mode": {
    "name": "ipython",
    "version": 3
   },
   "file_extension": ".py",
   "mimetype": "text/x-python",
   "name": "python",
   "nbconvert_exporter": "python",
   "pygments_lexer": "ipython3",
   "version": "3.11.4"
  }
 },
 "nbformat": 4,
 "nbformat_minor": 5
}
