{
 "cells": [
  {
   "cell_type": "code",
   "execution_count": 2,
   "id": "d2ae12d3-22da-4074-b7b0-e46bd8079342",
   "metadata": {
    "tags": []
   },
   "outputs": [],
   "source": [
    "import pandas as pd\n",
    "import numpy as np"
   ]
  },
  {
   "cell_type": "code",
   "execution_count": 3,
   "id": "c3677643-3534-453c-81b9-ddcd183b24e3",
   "metadata": {
    "tags": []
   },
   "outputs": [],
   "source": [
    "test = pd.read_csv('test.csv')\n",
    "train = pd.read_csv('train.csv')\n",
    "df_list = [train, test]"
   ]
  },
  {
   "cell_type": "code",
   "execution_count": 4,
   "id": "b806e86b-411d-4c6a-aa6e-f91570516ca6",
   "metadata": {
    "tags": []
   },
   "outputs": [],
   "source": [
    "for df in df_list:\n",
    "    df['Age_Group'] = df['Age']//10\n",
    "    df['CreditScore_Group'] = df['CreditScore']//100\n",
    "    df['Balance'] = df['Balance'].apply(lambda x: 0.1 if x == 0 else x)\n",
    "    df['Balance_log'] = np.floor(np.log10(df['Balance']))\n",
    "    #df['Balance_log'] = np.log10(df['Balance'])\n",
    "    df['EstimatedSalary'] = df['Balance'].apply(lambda x: 0.1 if x == 0 else x)\n",
    "    df['EstimatedSalary_log'] = np.floor(np.log10(df['EstimatedSalary']))\n",
    "    #df['EstimatedSalary_log'] = np.log10(df['EstimatedSalary'])"
   ]
  },
  {
   "cell_type": "code",
   "execution_count": 7,
   "id": "b2fc4b89-ddc3-4408-83ea-1c9855b2c3d6",
   "metadata": {
    "tags": []
   },
   "outputs": [],
   "source": [
    "for df in df_list:\n",
    "    df['Balance_log'] = df['Balance_log'].apply(lambda x: -1 if x == 1 else x)\n",
    "    df['Balance_log'] = df['Balance_log'].apply(lambda x: 4 if x == 3 else x)"
   ]
  },
  {
   "cell_type": "code",
   "execution_count": 10,
   "id": "99f8b4d4-7eaa-4433-a17e-b6d7259ac66c",
   "metadata": {
    "tags": []
   },
   "outputs": [],
   "source": [
    "for df in df_list:\n",
    "    df['EstimatedSalary_log'] = df['EstimatedSalary_log'].apply(lambda x: -1 if x == 1 else x)\n",
    "    df['EstimatedSalary_log'] = df['EstimatedSalary_log'].apply(lambda x: 4 if x == 3 else x)"
   ]
  },
  {
   "cell_type": "code",
   "execution_count": 11,
   "id": "93ec9c9e-9326-4b16-b789-a6e2cfe9cb35",
   "metadata": {
    "tags": []
   },
   "outputs": [],
   "source": [
    "reg_used = ['Geography', 'Gender', 'Age', 'Tenure', 'NumOfProducts',\n",
    "            'HasCrCard',\n",
    "       'IsActiveMember', 'CreditScore_Group','Balance_log', 'EstimatedSalary_log']\n",
    "dum = ['Geography', 'Gender', 'NumOfProducts', 'CreditScore_Group',\n",
    "       'Balance_log', 'EstimatedSalary_log'\n",
    "      ]"
   ]
  },
  {
   "cell_type": "code",
   "execution_count": 12,
   "id": "2534c453-8a9f-4b61-8613-34a0e7ccd301",
   "metadata": {
    "tags": []
   },
   "outputs": [],
   "source": [
    "X_train = train[reg_used]\n",
    "X_test = test[reg_used]"
   ]
  },
  {
   "cell_type": "code",
   "execution_count": 13,
   "id": "3eb81f9c-5d85-4919-9d13-d26c67a4441d",
   "metadata": {
    "tags": []
   },
   "outputs": [],
   "source": [
    "X_train_dum = pd.get_dummies(X_train, columns = dum)\n",
    "X_test_dum = pd.get_dummies(X_test, columns = dum)"
   ]
  },
  {
   "cell_type": "code",
   "execution_count": 14,
   "id": "c15748cc-7b84-4b1e-8657-78cfac3a9ab6",
   "metadata": {
    "tags": []
   },
   "outputs": [],
   "source": [
    "X_train_dum = X_train_dum.drop(columns = 'Gender_Male')\n",
    "X_test_dum = X_test_dum.drop(columns = 'Gender_Male')"
   ]
  },
  {
   "cell_type": "code",
   "execution_count": 15,
   "id": "06c4523a-d183-4b0c-b67f-dcf4619ff5b1",
   "metadata": {
    "tags": []
   },
   "outputs": [],
   "source": [
    "from sklearn.preprocessing import StandardScaler\n",
    "scaler = StandardScaler()\n",
    "X_train_std = scaler.fit_transform(X_train_dum)\n",
    "X_test_std = scaler.fit_transform(X_test_dum)"
   ]
  },
  {
   "cell_type": "code",
   "execution_count": 16,
   "id": "e1d5575f-f42e-4680-ae72-604fbc0c408c",
   "metadata": {
    "tags": []
   },
   "outputs": [],
   "source": [
    "y = train['Exited']"
   ]
  },
  {
   "cell_type": "code",
   "execution_count": 17,
   "id": "0e7d65a9-8017-4fd5-ad54-97f95e4c398d",
   "metadata": {
    "tags": []
   },
   "outputs": [],
   "source": [
    "from sklearn.model_selection import train_test_split\n",
    "X_train_split, X_test_split, y_train_split, y_test_split = train_test_split(X_train_std, y, stratify=y, test_size=0.25)"
   ]
  },
  {
   "cell_type": "code",
   "execution_count": 19,
   "id": "786bba81-e2c9-4221-bd23-c4a7634ff1ca",
   "metadata": {
    "tags": []
   },
   "outputs": [
    {
     "data": {
      "text/html": [
       "<style>#sk-container-id-1 {color: black;}#sk-container-id-1 pre{padding: 0;}#sk-container-id-1 div.sk-toggleable {background-color: white;}#sk-container-id-1 label.sk-toggleable__label {cursor: pointer;display: block;width: 100%;margin-bottom: 0;padding: 0.3em;box-sizing: border-box;text-align: center;}#sk-container-id-1 label.sk-toggleable__label-arrow:before {content: \"▸\";float: left;margin-right: 0.25em;color: #696969;}#sk-container-id-1 label.sk-toggleable__label-arrow:hover:before {color: black;}#sk-container-id-1 div.sk-estimator:hover label.sk-toggleable__label-arrow:before {color: black;}#sk-container-id-1 div.sk-toggleable__content {max-height: 0;max-width: 0;overflow: hidden;text-align: left;background-color: #f0f8ff;}#sk-container-id-1 div.sk-toggleable__content pre {margin: 0.2em;color: black;border-radius: 0.25em;background-color: #f0f8ff;}#sk-container-id-1 input.sk-toggleable__control:checked~div.sk-toggleable__content {max-height: 200px;max-width: 100%;overflow: auto;}#sk-container-id-1 input.sk-toggleable__control:checked~label.sk-toggleable__label-arrow:before {content: \"▾\";}#sk-container-id-1 div.sk-estimator input.sk-toggleable__control:checked~label.sk-toggleable__label {background-color: #d4ebff;}#sk-container-id-1 div.sk-label input.sk-toggleable__control:checked~label.sk-toggleable__label {background-color: #d4ebff;}#sk-container-id-1 input.sk-hidden--visually {border: 0;clip: rect(1px 1px 1px 1px);clip: rect(1px, 1px, 1px, 1px);height: 1px;margin: -1px;overflow: hidden;padding: 0;position: absolute;width: 1px;}#sk-container-id-1 div.sk-estimator {font-family: monospace;background-color: #f0f8ff;border: 1px dotted black;border-radius: 0.25em;box-sizing: border-box;margin-bottom: 0.5em;}#sk-container-id-1 div.sk-estimator:hover {background-color: #d4ebff;}#sk-container-id-1 div.sk-parallel-item::after {content: \"\";width: 100%;border-bottom: 1px solid gray;flex-grow: 1;}#sk-container-id-1 div.sk-label:hover label.sk-toggleable__label {background-color: #d4ebff;}#sk-container-id-1 div.sk-serial::before {content: \"\";position: absolute;border-left: 1px solid gray;box-sizing: border-box;top: 0;bottom: 0;left: 50%;z-index: 0;}#sk-container-id-1 div.sk-serial {display: flex;flex-direction: column;align-items: center;background-color: white;padding-right: 0.2em;padding-left: 0.2em;position: relative;}#sk-container-id-1 div.sk-item {position: relative;z-index: 1;}#sk-container-id-1 div.sk-parallel {display: flex;align-items: stretch;justify-content: center;background-color: white;position: relative;}#sk-container-id-1 div.sk-item::before, #sk-container-id-1 div.sk-parallel-item::before {content: \"\";position: absolute;border-left: 1px solid gray;box-sizing: border-box;top: 0;bottom: 0;left: 50%;z-index: -1;}#sk-container-id-1 div.sk-parallel-item {display: flex;flex-direction: column;z-index: 1;position: relative;background-color: white;}#sk-container-id-1 div.sk-parallel-item:first-child::after {align-self: flex-end;width: 50%;}#sk-container-id-1 div.sk-parallel-item:last-child::after {align-self: flex-start;width: 50%;}#sk-container-id-1 div.sk-parallel-item:only-child::after {width: 0;}#sk-container-id-1 div.sk-dashed-wrapped {border: 1px dashed gray;margin: 0 0.4em 0.5em 0.4em;box-sizing: border-box;padding-bottom: 0.4em;background-color: white;}#sk-container-id-1 div.sk-label label {font-family: monospace;font-weight: bold;display: inline-block;line-height: 1.2em;}#sk-container-id-1 div.sk-label-container {text-align: center;}#sk-container-id-1 div.sk-container {/* jupyter's `normalize.less` sets `[hidden] { display: none; }` but bootstrap.min.css set `[hidden] { display: none !important; }` so we also need the `!important` here to be able to override the default hidden behavior on the sphinx rendered scikit-learn.org. See: https://github.com/scikit-learn/scikit-learn/issues/21755 */display: inline-block !important;position: relative;}#sk-container-id-1 div.sk-text-repr-fallback {display: none;}</style><div id=\"sk-container-id-1\" class=\"sk-top-container\"><div class=\"sk-text-repr-fallback\"><pre>LogisticRegression(random_state=0)</pre><b>In a Jupyter environment, please rerun this cell to show the HTML representation or trust the notebook. <br />On GitHub, the HTML representation is unable to render, please try loading this page with nbviewer.org.</b></div><div class=\"sk-container\" hidden><div class=\"sk-item\"><div class=\"sk-estimator sk-toggleable\"><input class=\"sk-toggleable__control sk-hidden--visually\" id=\"sk-estimator-id-1\" type=\"checkbox\" checked><label for=\"sk-estimator-id-1\" class=\"sk-toggleable__label sk-toggleable__label-arrow\">LogisticRegression</label><div class=\"sk-toggleable__content\"><pre>LogisticRegression(random_state=0)</pre></div></div></div></div></div>"
      ],
      "text/plain": [
       "LogisticRegression(random_state=0)"
      ]
     },
     "execution_count": 19,
     "metadata": {},
     "output_type": "execute_result"
    }
   ],
   "source": [
    "from sklearn.linear_model import LogisticRegression\n",
    "clf = LogisticRegression(random_state=0)\n",
    "clf.fit(X_train_split,y_train_split)"
   ]
  },
  {
   "cell_type": "code",
   "execution_count": 23,
   "id": "421d503c-fe2f-4df6-862c-851be648fad2",
   "metadata": {
    "tags": []
   },
   "outputs": [],
   "source": [
    "y_train_split_pred = clf.predict(X_train_split)\n",
    "y_test_split_pred = clf.predict(X_test_split)"
   ]
  },
  {
   "cell_type": "code",
   "execution_count": 24,
   "id": "7a48b0ed-e190-4540-93ff-5ddff7ddb224",
   "metadata": {
    "tags": []
   },
   "outputs": [
    {
     "data": {
      "text/plain": [
       "0.8572086447182388"
      ]
     },
     "execution_count": 24,
     "metadata": {},
     "output_type": "execute_result"
    }
   ],
   "source": [
    "from sklearn.metrics import accuracy_score\n",
    "accuracy_score(y_train_split, y_train_split_pred)"
   ]
  },
  {
   "cell_type": "code",
   "execution_count": 25,
   "id": "e5bcca08-0095-4592-9eff-04e5c1dbdab1",
   "metadata": {
    "tags": []
   },
   "outputs": [
    {
     "data": {
      "text/plain": [
       "0.8553527715165176"
      ]
     },
     "execution_count": 25,
     "metadata": {},
     "output_type": "execute_result"
    }
   ],
   "source": [
    "accuracy_score(y_test_split, y_test_split_pred)"
   ]
  },
  {
   "cell_type": "code",
   "execution_count": 28,
   "id": "3dbe2a9b-f48d-4b71-b708-9311acc60cd2",
   "metadata": {
    "tags": []
   },
   "outputs": [
    {
     "data": {
      "text/plain": [
       "<sklearn.metrics._plot.confusion_matrix.ConfusionMatrixDisplay at 0x127dbff10>"
      ]
     },
     "execution_count": 28,
     "metadata": {},
     "output_type": "execute_result"
    },
    {
     "data": {
      "image/png": "[encoded data removed]",
      "text/plain": [
       "<Figure size 640x480 with 2 Axes>"
      ]
     },
     "metadata": {},
     "output_type": "display_data"
    }
   ],
   "source": [
    "from sklearn.metrics import confusion_matrix, ConfusionMatrixDisplay\n",
    "cm = confusion_matrix(y_test_split, y_test_split_pred)\n",
    "\n",
    "disp = ConfusionMatrixDisplay(confusion_matrix=cm, display_labels=['Not Left', 'Left'])\n",
    "disp.plot()"
   ]
  },
  {
   "cell_type": "code",
   "execution_count": 29,
   "id": "573ce47c-a2cb-48b4-8ca2-b3750e823217",
   "metadata": {
    "tags": []
   },
   "outputs": [],
   "source": [
    "tn, fp, fn, tp = cm.ravel()"
   ]
  },
  {
   "cell_type": "code",
   "execution_count": 30,
   "id": "2d42710e-7052-4ba7-8739-7c91282ebe26",
   "metadata": {
    "tags": []
   },
   "outputs": [
    {
     "name": "stdout",
     "output_type": "stream",
     "text": [
      "recall 0.5119129438717067\n",
      "precision 0.7236075129533679\n"
     ]
    }
   ],
   "source": [
    "print(\"recall\", tp/(fn+tp))\n",
    "print(\"precision\", tp/(fp+tp))"
   ]
  },
  {
   "cell_type": "code",
   "execution_count": null,
   "id": "2ed38529-8900-42dc-97a4-1a1f192099cb",
   "metadata": {},
   "outputs": [],
   "source": []
  }
 ],
 "metadata": {
  "kernelspec": {
   "display_name": "Python 3 (ipykernel)",
   "language": "python",
   "name": "python3"
  },
  "language_info": {
   "codemirror_mode": {
    "name": "ipython",
    "version": 3
   },
   "file_extension": ".py",
   "mimetype": "text/x-python",
   "name": "python",
   "nbconvert_exporter": "python",
   "pygments_lexer": "ipython3",
   "version": "3.11.4"
  }
 },
 "nbformat": 4,
 "nbformat_minor": 5
}
