{
 "cells": [
  {
   "cell_type": "code",
   "execution_count": null,
   "id": "f6c40ad4-0e6b-45e3-a19a-ac005966c5f9",
   "metadata": {},
   "outputs": [],
   "source": [
    "# Game: Rock paper scissors\n",
    "# A function to play rock paper scissors with computer\n",
    "# - computer randomly choose one\n",
    "# - plyaer input choice\n",
    "# - get result, win / lose / draw\n",
    "# - if draw, not count, play that round again\n",
    "# - 3 rounds each game, win 2 rounds then win the game"
   ]
  },
  {
   "cell_type": "code",
   "execution_count": null,
   "id": "93447aef-143d-489e-94fb-55b014082b1e",
   "metadata": {},
   "outputs": [],
   "source": [
    "# computer choose ramdomly\n",
    "\n",
    "# play input choice\n",
    "# validate input\n",
    "\n",
    "# check who wins\n",
    "\n",
    "# loop -> 3 rounds\n",
    "# draw -> repeat that round / do not count that round\n",
    "\n",
    "# count number of wins for player and computer\n",
    "\n",
    "# wrap as a function"
   ]
  },
  {
   "cell_type": "code",
   "execution_count": 11,
   "id": "764731cc-152c-4499-be65-fa547670bdbc",
   "metadata": {
    "tags": []
   },
   "outputs": [
    {
     "name": "stdout",
     "output_type": "stream",
     "text": [
      "1\n"
     ]
    }
   ],
   "source": [
    "import random\n",
    "\n",
    "choices = [0, 1, 2]\n",
    "computer_choice = random.choice(choices)\n",
    "\n",
    "print(computer_choice)"
   ]
  },
  {
   "cell_type": "code",
   "execution_count": 15,
   "id": "f83c6516-bdbb-47fc-bb6f-8a0ca997c353",
   "metadata": {
    "tags": []
   },
   "outputs": [],
   "source": [
    "def ask_player_choice():\n",
    "    user_input = \"\"\n",
    "    while True:\n",
    "        user_input = input(\"Please input your choice: 0 - ROCK, 1 - PAPER, 2 - SCISSORS\")\n",
    "        if user_input.isdigit() and int(user_input) >= 0 and int(user_input) <= 2:\n",
    "            return int(user_input)\n",
    "        else:\n",
    "            print(\"Invalid input! Please try again.\")"
   ]
  },
  {
   "cell_type": "code",
   "execution_count": 23,
   "id": "c0a8dd3f-2d91-412f-a713-a911410cb970",
   "metadata": {},
   "outputs": [],
   "source": [
    "def play_round():\n",
    "    choice_name = [\"ROCK\", \"PAPER\", \"SCISSORS\"]\n",
    "    player_choice = ask_player_choice()\n",
    "    computer_choice = random.choice(choices)\n",
    "    win_ind = (player_choice - computer_choice) % 3 # 0: Draw, 1: Player Wins, 2: Computer Wins\n",
    "    print(f\"Computer chooses {choice_name[computer_choice]}. Player chooses {choice_name[player_choice]}.\")\n",
    "    if win_ind == 0:\n",
    "        print(\"This round is a draw\")\n",
    "    elif win_ind == 1:\n",
    "            print(\"Player wins this round!\")\n",
    "    else:\n",
    "            print(\"Computer wins this round!\")\n",
    "    return win_ind # Return result 0: Draw, 1: Player Wins, 2: Computer Wins"
   ]
  },
  {
   "cell_type": "code",
   "execution_count": 29,
   "id": "232ebb63-4f73-4a64-b23f-11aa7c550fdd",
   "metadata": {
    "tags": []
   },
   "outputs": [],
   "source": [
    "def play_game(winning_score):\n",
    "    player_score = 0\n",
    "    computer_score = 0\n",
    "    while player_score < winning_score and computer_score < winning_score:\n",
    "        win_ind = play_round()\n",
    "        if win_ind == 1:\n",
    "            player_score += 1\n",
    "        if win_ind == 2:\n",
    "            computer_score +=1\n",
    "        print(f\"Player Score: {player_score}      Computer Score: {computer_score}\")\n",
    "    if player_score == winning_score:\n",
    "        print(\"Player wins the game!\")\n",
    "    else:\n",
    "        print(\"Computer wins the game!\")\n"
   ]
  },
  {
   "cell_type": "code",
   "execution_count": 30,
   "id": "4e750f09-3558-4e6f-b0a3-53c224a4c141",
   "metadata": {
    "tags": []
   },
   "outputs": [
    {
     "name": "stdin",
     "output_type": "stream",
     "text": [
      "Please input your choice: 0 - ROCK, 1 - PAPER, 2 - SCISSORS 0\n"
     ]
    },
    {
     "name": "stdout",
     "output_type": "stream",
     "text": [
      "Computer chooses PAPER. Player chooses ROCK.\n",
      "Computer wins this round!\n",
      "Player Score: 0      Computer Score: 1\n"
     ]
    },
    {
     "name": "stdin",
     "output_type": "stream",
     "text": [
      "Please input your choice: 0 - ROCK, 1 - PAPER, 2 - SCISSORS 1\n"
     ]
    },
    {
     "name": "stdout",
     "output_type": "stream",
     "text": [
      "Computer chooses ROCK. Player chooses PAPER.\n",
      "Player wins this round!\n",
      "Player Score: 1      Computer Score: 1\n"
     ]
    },
    {
     "name": "stdin",
     "output_type": "stream",
     "text": [
      "Please input your choice: 0 - ROCK, 1 - PAPER, 2 - SCISSORS b\n"
     ]
    },
    {
     "name": "stdout",
     "output_type": "stream",
     "text": [
      "Invalid input! Please try again.\n"
     ]
    },
    {
     "name": "stdin",
     "output_type": "stream",
     "text": [
      "Please input your choice: 0 - ROCK, 1 - PAPER, 2 - SCISSORS 2\n"
     ]
    },
    {
     "name": "stdout",
     "output_type": "stream",
     "text": [
      "Computer chooses SCISSORS. Player chooses SCISSORS.\n",
      "This round is a draw\n",
      "Player Score: 1      Computer Score: 1\n"
     ]
    },
    {
     "name": "stdin",
     "output_type": "stream",
     "text": [
      "Please input your choice: 0 - ROCK, 1 - PAPER, 2 - SCISSORS 1\n"
     ]
    },
    {
     "name": "stdout",
     "output_type": "stream",
     "text": [
      "Computer chooses ROCK. Player chooses PAPER.\n",
      "Player wins this round!\n",
      "Player Score: 2      Computer Score: 1\n"
     ]
    },
    {
     "name": "stdin",
     "output_type": "stream",
     "text": [
      "Please input your choice: 0 - ROCK, 1 - PAPER, 2 - SCISSORS 2\n"
     ]
    },
    {
     "name": "stdout",
     "output_type": "stream",
     "text": [
      "Computer chooses PAPER. Player chooses SCISSORS.\n",
      "Player wins this round!\n",
      "Player Score: 3      Computer Score: 1\n"
     ]
    },
    {
     "name": "stdin",
     "output_type": "stream",
     "text": [
      "Please input your choice: 0 - ROCK, 1 - PAPER, 2 - SCISSORS 4\n"
     ]
    },
    {
     "name": "stdout",
     "output_type": "stream",
     "text": [
      "Invalid input! Please try again.\n"
     ]
    },
    {
     "name": "stdin",
     "output_type": "stream",
     "text": [
      "Please input your choice: 0 - ROCK, 1 - PAPER, 2 - SCISSORS 2\n"
     ]
    },
    {
     "name": "stdout",
     "output_type": "stream",
     "text": [
      "Computer chooses PAPER. Player chooses SCISSORS.\n",
      "Player wins this round!\n",
      "Player Score: 4      Computer Score: 1\n"
     ]
    },
    {
     "name": "stdin",
     "output_type": "stream",
     "text": [
      "Please input your choice: 0 - ROCK, 1 - PAPER, 2 - SCISSORS 1\n"
     ]
    },
    {
     "name": "stdout",
     "output_type": "stream",
     "text": [
      "Computer chooses SCISSORS. Player chooses PAPER.\n",
      "Computer wins this round!\n",
      "Player Score: 4      Computer Score: 2\n"
     ]
    },
    {
     "name": "stdin",
     "output_type": "stream",
     "text": [
      "Please input your choice: 0 - ROCK, 1 - PAPER, 2 - SCISSORS 1\n"
     ]
    },
    {
     "name": "stdout",
     "output_type": "stream",
     "text": [
      "Computer chooses SCISSORS. Player chooses PAPER.\n",
      "Computer wins this round!\n",
      "Player Score: 4      Computer Score: 3\n"
     ]
    },
    {
     "name": "stdin",
     "output_type": "stream",
     "text": [
      "Please input your choice: 0 - ROCK, 1 - PAPER, 2 - SCISSORS 0\n"
     ]
    },
    {
     "name": "stdout",
     "output_type": "stream",
     "text": [
      "Computer chooses ROCK. Player chooses ROCK.\n",
      "This round is a draw\n",
      "Player Score: 4      Computer Score: 3\n"
     ]
    },
    {
     "name": "stdin",
     "output_type": "stream",
     "text": [
      "Please input your choice: 0 - ROCK, 1 - PAPER, 2 - SCISSORS 1\n"
     ]
    },
    {
     "name": "stdout",
     "output_type": "stream",
     "text": [
      "Computer chooses PAPER. Player chooses PAPER.\n",
      "This round is a draw\n",
      "Player Score: 4      Computer Score: 3\n"
     ]
    },
    {
     "name": "stdin",
     "output_type": "stream",
     "text": [
      "Please input your choice: 0 - ROCK, 1 - PAPER, 2 - SCISSORS 1\n"
     ]
    },
    {
     "name": "stdout",
     "output_type": "stream",
     "text": [
      "Computer chooses SCISSORS. Player chooses PAPER.\n",
      "Computer wins this round!\n",
      "Player Score: 4      Computer Score: 4\n"
     ]
    },
    {
     "name": "stdin",
     "output_type": "stream",
     "text": [
      "Please input your choice: 0 - ROCK, 1 - PAPER, 2 - SCISSORS 1\n"
     ]
    },
    {
     "name": "stdout",
     "output_type": "stream",
     "text": [
      "Computer chooses ROCK. Player chooses PAPER.\n",
      "Player wins this round!\n",
      "Player Score: 5      Computer Score: 4\n",
      "Player wins the game!\n"
     ]
    }
   ],
   "source": [
    "play_game(5)"
   ]
  },
  {
   "cell_type": "code",
   "execution_count": null,
   "id": "5848fb66-4d3a-4559-9e5b-ae83c81f3807",
   "metadata": {},
   "outputs": [],
   "source": []
  }
 ],
 "metadata": {
  "kernelspec": {
   "display_name": "Python 3 (ipykernel)",
   "language": "python",
   "name": "python3"
  },
  "language_info": {
   "codemirror_mode": {
    "name": "ipython",
    "version": 3
   },
   "file_extension": ".py",
   "mimetype": "text/x-python",
   "name": "python",
   "nbconvert_exporter": "python",
   "pygments_lexer": "ipython3",
   "version": "3.11.4"
  }
 },
 "nbformat": 4,
 "nbformat_minor": 5
}
