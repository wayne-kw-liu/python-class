{
 "cells": [
  {
   "cell_type": "code",
   "execution_count": 5,
   "metadata": {
    "executionInfo": {
     "elapsed": 393,
     "status": "ok",
     "timestamp": 1705115081331,
     "user": {
      "displayName": "Gawain Chin",
      "userId": "07582472287713846748"
     },
     "user_tz": -480
    },
    "id": "qcR2Um4j82Zu",
    "tags": []
   },
   "outputs": [],
   "source": [
    "import pandas as pd\n",
    "import numpy as np\n",
    "import matplotlib.pyplot as plt"
   ]
  },
  {
   "cell_type": "code",
   "execution_count": 6,
   "metadata": {
    "executionInfo": {
     "elapsed": 4884,
     "status": "ok",
     "timestamp": 1705116611128,
     "user": {
      "displayName": "Gawain Chin",
      "userId": "07582472287713846748"
     },
     "user_tz": -480
    },
    "id": "bvYSFba182Zv",
    "tags": []
   },
   "outputs": [],
   "source": [
    "## load data\n",
    "df_train = pd.read_csv('train.csv')\n",
    "df_test = pd.read_csv('test.csv')"
   ]
  },
  {
   "cell_type": "code",
   "execution_count": 10,
   "metadata": {
    "executionInfo": {
     "elapsed": 232,
     "status": "ok",
     "timestamp": 1705116611358,
     "user": {
      "displayName": "Gawain Chin",
      "userId": "07582472287713846748"
     },
     "user_tz": -480
    },
    "id": "mqRK4rjG3Mu3",
    "tags": []
   },
   "outputs": [],
   "source": [
    "X = df_train[df_train.columns[1:]].to_numpy()\n",
    "y = df_train[df_train.columns[0]]"
   ]
  },
  {
   "cell_type": "code",
   "execution_count": 14,
   "metadata": {
    "colab": {
     "base_uri": "https://localhost:8080/",
     "height": 468
    },
    "executionInfo": {
     "elapsed": 433,
     "status": "ok",
     "timestamp": 1705116782131,
     "user": {
      "displayName": "Gawain Chin",
      "userId": "07582472287713846748"
     },
     "user_tz": -480
    },
    "id": "Gg6lBdW6hvYC",
    "outputId": "4855df0d-632c-478f-f331-a18bcea763d2",
    "tags": []
   },
   "outputs": [
    {
     "data": {
      "text/plain": [
       "<matplotlib.image.AxesImage at 0x12426aa10>"
      ]
     },
     "execution_count": 14,
     "metadata": {},
     "output_type": "execute_result"
    },
    {
     "data": {
      "image/png": "[encoded data removed]",
      "text/plain": [
       "<Figure size 640x480 with 1 Axes>"
      ]
     },
     "metadata": {},
     "output_type": "display_data"
    }
   ],
   "source": [
    "# Print Image here\n",
    "import matplotlib.pyplot as plt\n",
    "# No plotting an array, Plot Matrix\n",
    "plt.imshow(X[3].reshape(28,28))"
   ]
  },
  {
   "cell_type": "markdown",
   "metadata": {
    "id": "0eO9UseKhvYC"
   },
   "source": [
    "## Model Training"
   ]
  },
  {
   "cell_type": "code",
   "execution_count": 16,
   "metadata": {
    "executionInfo": {
     "elapsed": 1131,
     "status": "ok",
     "timestamp": 1705117037080,
     "user": {
      "displayName": "Gawain Chin",
      "userId": "07582472287713846748"
     },
     "user_tz": -480
    },
    "id": "-L9wZh1Z4e0p",
    "tags": []
   },
   "outputs": [],
   "source": [
    "from sklearn.model_selection import train_test_split\n",
    "\n",
    "X = X/255\n",
    "X_train, X_val, y_train, y_val = train_test_split(X,y, test_size=0.2, random_state=42)"
   ]
  },
  {
   "cell_type": "code",
   "execution_count": 22,
   "metadata": {
    "executionInfo": {
     "elapsed": 1379,
     "status": "ok",
     "timestamp": 1705118889899,
     "user": {
      "displayName": "Gawain Chin",
      "userId": "07582472287713846748"
     },
     "user_tz": -480
    },
    "id": "FiNJ9EM4hvYC",
    "tags": []
   },
   "outputs": [],
   "source": [
    "import xgboost as xgb\n",
    "# XGboost training\n",
    "\n",
    "dtrain = xgb.DMatrix(X_train, label=y_train)\n",
    "dval = xgb.DMatrix(X_val, label=y_val)"
   ]
  },
  {
   "cell_type": "code",
   "execution_count": 23,
   "metadata": {
    "executionInfo": {
     "elapsed": 35744,
     "status": "ok",
     "timestamp": 1705119393213,
     "user": {
      "displayName": "Gawain Chin",
      "userId": "07582472287713846748"
     },
     "user_tz": -480
    },
    "id": "TUCC2kTB5TKZ",
    "tags": []
   },
   "outputs": [],
   "source": [
    "params = {\n",
    "    'max_depth' : 7,\n",
    "    'eta': 0.1, #Learning Rate\n",
    "    'objective': \"multi:softmax\",\n",
    "    'num_class' : 10\n",
    "}\n",
    "\n",
    "model = xgb.train(params = params, dtrain=dtrain, num_boost_round=3)"
   ]
  },
  {
   "cell_type": "code",
   "execution_count": 24,
   "metadata": {
    "colab": {
     "base_uri": "https://localhost:8080/"
    },
    "executionInfo": {
     "elapsed": 277,
     "status": "ok",
     "timestamp": 1705119424353,
     "user": {
      "displayName": "Gawain Chin",
      "userId": "07582472287713846748"
     },
     "user_tz": -480
    },
    "id": "3pWLvp9JCFzO",
    "outputId": "48fabef8-b45a-462a-cbad-76cea6d0b622",
    "tags": []
   },
   "outputs": [
    {
     "name": "stdout",
     "output_type": "stream",
     "text": [
      "Training Acc: 0.9355059523809524\n",
      "Testing Acc: 0.9042857142857142\n"
     ]
    }
   ],
   "source": [
    "y_train_pred = model.predict(dtrain)\n",
    "y_val_pred = model.predict(dval)\n",
    "\n",
    "print(\"Training Acc:\" , accuracy_score(y_train,y_train_pred))\n",
    "print(\"Testing Acc:\" , accuracy_score(y_val,y_val_pred))"
   ]
  },
  {
   "cell_type": "code",
   "execution_count": 25,
   "metadata": {
    "executionInfo": {
     "elapsed": 242,
     "status": "ok",
     "timestamp": 1705119706604,
     "user": {
      "displayName": "Gawain Chin",
      "userId": "07582472287713846748"
     },
     "user_tz": -480
    },
    "id": "C9F44NVOC0dA",
    "tags": []
   },
   "outputs": [],
   "source": [
    "from sklearn.model_selection import ParameterGrid\n",
    "\n",
    "params_dict ={\n",
    "    'max_depth' : [2,7],\n",
    "    'eta' : [0.1, 0.3],\n",
    "    'objective': [\"multi:softmax\"],\n",
    "    'num_class' : [10],\n",
    "    'gamma' : [0.1,0.3]\n",
    "}"
   ]
  },
  {
   "cell_type": "code",
   "execution_count": 33,
   "metadata": {
    "colab": {
     "base_uri": "https://localhost:8080/"
    },
    "executionInfo": {
     "elapsed": 3,
     "status": "ok",
     "timestamp": 1705119830894,
     "user": {
      "displayName": "Gawain Chin",
      "userId": "07582472287713846748"
     },
     "user_tz": -480
    },
    "id": "RuhtCApEDfcI",
    "outputId": "6559e3e8-aada-43e9-8906-837fa54019bc",
    "tags": []
   },
   "outputs": [
    {
     "name": "stdout",
     "output_type": "stream",
     "text": [
      "{'eta': 0.1, 'gamma': 0.1, 'max_depth': 2, 'num_class': 10, 'objective': 'multi:softmax'}\n",
      "Training Acc: 0.7849404761904762\n",
      "Testing Acc: 0.7803571428571429\n",
      "{'eta': 0.1, 'gamma': 0.1, 'max_depth': 7, 'num_class': 10, 'objective': 'multi:softmax'}\n",
      "Training Acc: 0.9608333333333333\n",
      "Testing Acc: 0.9272619047619047\n",
      "{'eta': 0.1, 'gamma': 0.3, 'max_depth': 2, 'num_class': 10, 'objective': 'multi:softmax'}\n",
      "Training Acc: 0.7849404761904762\n",
      "Testing Acc: 0.7803571428571429\n",
      "{'eta': 0.1, 'gamma': 0.3, 'max_depth': 7, 'num_class': 10, 'objective': 'multi:softmax'}\n",
      "Training Acc: 0.9608035714285714\n",
      "Testing Acc: 0.9272619047619047\n",
      "{'eta': 0.3, 'gamma': 0.1, 'max_depth': 2, 'num_class': 10, 'objective': 'multi:softmax'}\n",
      "Training Acc: 0.8288392857142857\n",
      "Testing Acc: 0.819047619047619\n",
      "{'eta': 0.3, 'gamma': 0.1, 'max_depth': 7, 'num_class': 10, 'objective': 'multi:softmax'}\n",
      "Training Acc: 0.9832738095238095\n",
      "Testing Acc: 0.944047619047619\n",
      "{'eta': 0.3, 'gamma': 0.3, 'max_depth': 2, 'num_class': 10, 'objective': 'multi:softmax'}\n",
      "Training Acc: 0.8288392857142857\n",
      "Testing Acc: 0.819047619047619\n",
      "{'eta': 0.3, 'gamma': 0.3, 'max_depth': 7, 'num_class': 10, 'objective': 'multi:softmax'}\n",
      "Training Acc: 0.9838392857142857\n",
      "Testing Acc: 0.9441666666666667\n"
     ]
    }
   ],
   "source": [
    "result = []\n",
    "for param in ParameterGrid(params_dict):\n",
    "    print(param)\n",
    "    model = xgb.train(params = param, dtrain=dtrain, num_boost_round=10)\n",
    "    y_train_pred = model.predict(dtrain)\n",
    "    y_val_pred = model.predict(dval)\n",
    "    train_acc = accuracy_score(y_train,y_train_pred)\n",
    "    test_acc = accuracy_score(y_val,y_val_pred)\n",
    "    print(\"Training Acc:\" , train_acc)\n",
    "    print(\"Testing Acc:\" , test_acc)\n",
    "    result.append([param, train_acc, test_acc])\n",
    "# Try different Param\n",
    "# Return best paramater reuslt\n",
    "# Tell me best result validation accuracy"
   ]
  },
  {
   "cell_type": "code",
   "execution_count": 34,
   "metadata": {
    "tags": []
   },
   "outputs": [
    {
     "name": "stdout",
     "output_type": "stream",
     "text": [
      "best parameters are:  {'eta': 0.3, 'gamma': 0.3, 'max_depth': 7, 'num_class': 10, 'objective': 'multi:softmax'}\n",
      "Training Acc:  0.9838392857142857\n",
      "Testing Acc:  0.9441666666666667\n"
     ]
    }
   ],
   "source": [
    "best_result = result[0][2]\n",
    "index = 0\n",
    "for i in range(len(result)):\n",
    "    if result[i][2] > best_result:\n",
    "        best_result = result[i][2]\n",
    "        index = i\n",
    "print(\"best parameters are: \", result[index][0])\n",
    "print(\"Training Acc: \", result[index][1])\n",
    "print(\"Testing Acc: \", result[index][2])"
   ]
  }
 ],
 "metadata": {
  "colab": {
   "provenance": []
  },
  "kernelspec": {
   "display_name": "Python 3 (ipykernel)",
   "language": "python",
   "name": "python3"
  },
  "language_info": {
   "codemirror_mode": {
    "name": "ipython",
    "version": 3
   },
   "file_extension": ".py",
   "mimetype": "text/x-python",
   "name": "python",
   "nbconvert_exporter": "python",
   "pygments_lexer": "ipython3",
   "version": "3.11.4"
  }
 },
 "nbformat": 4,
 "nbformat_minor": 4
}
