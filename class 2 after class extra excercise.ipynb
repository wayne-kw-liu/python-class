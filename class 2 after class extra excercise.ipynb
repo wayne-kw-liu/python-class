{
 "cells": [
  {
   "cell_type": "code",
   "execution_count": 1,
   "id": "c330d42c-20c3-421f-8804-64adcc7001dc",
   "metadata": {
    "tags": []
   },
   "outputs": [],
   "source": [
    "def sum_digit(num):\n",
    "    for i in range(100,num + 1):\n",
    "        sum_of_digits = 0\n",
    "        for j in str(i):\n",
    "            sum_of_digits += int(j)\n",
    "        if sum_of_digits == 7:\n",
    "            print(f\"hundred: {i//100 - i//1000*10}, ten: {i//10 - i//100*10}, unit: {i - i//10*10}\")"
   ]
  },
  {
   "cell_type": "code",
   "execution_count": 2,
   "id": "567a2751-1e6b-484f-a2bf-785108666459",
   "metadata": {
    "tags": []
   },
   "outputs": [
    {
     "name": "stdout",
     "output_type": "stream",
     "text": [
      "hundred: 1, ten: 0, unit: 6\n",
      "hundred: 1, ten: 1, unit: 5\n"
     ]
    }
   ],
   "source": [
    "sum_digit(120)"
   ]
  },
  {
   "cell_type": "code",
   "execution_count": 3,
   "id": "944b2fa8-e9e7-419f-91b1-01a68cf4e01c",
   "metadata": {
    "tags": []
   },
   "outputs": [
    {
     "name": "stdout",
     "output_type": "stream",
     "text": [
      "hundred: 1, ten: 0, unit: 6\n",
      "hundred: 1, ten: 1, unit: 5\n",
      "hundred: 1, ten: 2, unit: 4\n"
     ]
    }
   ],
   "source": [
    "sum_digit(130)"
   ]
  },
  {
   "cell_type": "code",
   "execution_count": 4,
   "id": "77f5d0e4-e1f2-4f9f-9a1c-854b6d74be9c",
   "metadata": {
    "tags": []
   },
   "outputs": [
    {
     "name": "stdout",
     "output_type": "stream",
     "text": [
      "hundred: 1, ten: 0, unit: 6\n",
      "hundred: 1, ten: 1, unit: 5\n",
      "hundred: 1, ten: 2, unit: 4\n",
      "hundred: 1, ten: 3, unit: 3\n",
      "hundred: 1, ten: 4, unit: 2\n",
      "hundred: 1, ten: 5, unit: 1\n",
      "hundred: 1, ten: 6, unit: 0\n",
      "hundred: 2, ten: 0, unit: 5\n",
      "hundred: 2, ten: 1, unit: 4\n",
      "hundred: 2, ten: 2, unit: 3\n",
      "hundred: 2, ten: 3, unit: 2\n",
      "hundred: 2, ten: 4, unit: 1\n",
      "hundred: 2, ten: 5, unit: 0\n"
     ]
    }
   ],
   "source": [
    "sum_digit(300)"
   ]
  },
  {
   "cell_type": "code",
   "execution_count": null,
   "id": "94e1351c-e1db-4d03-8252-33ccc72f51a0",
   "metadata": {},
   "outputs": [],
   "source": []
  }
 ],
 "metadata": {
  "kernelspec": {
   "display_name": "Python 3 (ipykernel)",
   "language": "python",
   "name": "python3"
  },
  "language_info": {
   "codemirror_mode": {
    "name": "ipython",
    "version": 3
   },
   "file_extension": ".py",
   "mimetype": "text/x-python",
   "name": "python",
   "nbconvert_exporter": "python",
   "pygments_lexer": "ipython3",
   "version": "3.11.4"
  }
 },
 "nbformat": 4,
 "nbformat_minor": 5
}
